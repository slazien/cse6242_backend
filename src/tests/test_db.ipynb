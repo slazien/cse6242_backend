{
 "cells": [
  {
   "cell_type": "code",
   "execution_count": 2,
   "metadata": {},
   "outputs": [],
   "source": [
    "import psycopg2 as pg\n",
    "import configparser"
   ]
  },
  {
   "cell_type": "code",
   "execution_count": 3,
   "metadata": {},
   "outputs": [
    {
     "name": "stdout",
     "output_type": "stream",
     "text": [
      "DB connection is a success\n"
     ]
    }
   ],
   "source": [
    "config = configparser.ConfigParser()\n",
    "config.read(\"../../config/config.ini\")    \n",
    "opt_params = config['DB']\n",
    "with pg.connect(**opt_params) as conn:\n",
    "    cur = conn.cursor()\n",
    "    cur.execute(\"SELECT * FROM pois;\")\n",
    "    cur.fetchall()\n",
    "    print(\"DB connection is a success\")"
   ]
  }
 ],
 "metadata": {
  "interpreter": {
   "hash": "bf0d96ebd2a5dd04824f7e10db890ae617139d6f917167f42fcdcc1217b9ad8b"
  },
  "kernelspec": {
   "display_name": "Python 3.9.7 ('cse6242project')",
   "language": "python",
   "name": "python3"
  },
  "language_info": {
   "codemirror_mode": {
    "name": "ipython",
    "version": 3
   },
   "file_extension": ".py",
   "mimetype": "text/x-python",
   "name": "python",
   "nbconvert_exporter": "python",
   "pygments_lexer": "ipython3",
   "version": "3.9.7"
  },
  "orig_nbformat": 4
 },
 "nbformat": 4,
 "nbformat_minor": 2
}
