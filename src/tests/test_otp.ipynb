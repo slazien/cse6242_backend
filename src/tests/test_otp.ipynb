{
 "cells": [
  {
   "cell_type": "markdown",
   "id": "50a7fa81",
   "metadata": {},
   "source": [
    "# Isochrone generation test\n",
    "\n",
    "This notebook tests connectivity to OTP server and generates a few sample catchment areas."
   ]
  },
  {
   "cell_type": "code",
   "execution_count": 16,
   "id": "e138c4c2-d2a7-4973-936c-4adc5e0b9f72",
   "metadata": {},
   "outputs": [],
   "source": [
    "import sys\n",
    "sys.path.append(\"../\")\n",
    "\n",
    "import isochrones as isc\n",
    "import geopandas as gpd\n",
    "import importlib as imp\n",
    "import configparser"
   ]
  },
  {
   "cell_type": "code",
   "execution_count": 17,
   "id": "06fa73cd",
   "metadata": {},
   "outputs": [],
   "source": [
    "config = configparser.ConfigParser()\n",
    "config.read(\"../../config/config.ini\")    \n",
    "opt_params = config['OTP']"
   ]
  },
  {
   "cell_type": "code",
   "execution_count": null,
   "id": "84ef3f1e-bcf3-4ba9-ad62-08739eb2e1bf",
   "metadata": {},
   "outputs": [],
   "source": [
    "imp.reload(isc)\n",
    "\n",
    "locations = [\n",
    "    ('atlanta', 33.781961, -84.496635),\n",
    "    ('dallas', 32.781961, -96.896635),\n",
    "    ('chicago', 41.78, -87.679),\n",
    "    (\"los_angeles\", 34.023, -118.3),\n",
    "    (\"new_york\", 40.7411909,-73.9710549)\n",
    "]\n",
    "\n",
    "service = isc.IsochroneService(otp_port=opt_params['port'], reference_date = opt_params['ref_date'], otp_host=opt_params['host'])\n",
    "for city, lat, long in locations:\n",
    "    isochrone, real = service.compute_isochrone(lat=lat, lon=long, city=city)   #<- another end point that uses lat/long directly\n",
    "    print(real)\n",
    "    gpd.GeoSeries(isochrone).plot()    "
   ]
  }
 ],
 "metadata": {
  "interpreter": {
   "hash": "bf0d96ebd2a5dd04824f7e10db890ae617139d6f917167f42fcdcc1217b9ad8b"
  },
  "kernelspec": {
   "display_name": "anaconda-real",
   "language": "python",
   "name": "python3"
  },
  "language_info": {
   "codemirror_mode": {
    "name": "ipython",
    "version": 3
   },
   "file_extension": ".py",
   "mimetype": "text/x-python",
   "name": "python",
   "nbconvert_exporter": "python",
   "pygments_lexer": "ipython3",
   "version": "3.9.7"
  }
 },
 "nbformat": 4,
 "nbformat_minor": 5
}
