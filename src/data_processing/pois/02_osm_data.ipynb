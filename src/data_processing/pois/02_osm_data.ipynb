{
 "cells": [
  {
   "cell_type": "markdown",
   "metadata": {},
   "source": [
    "# OSM POI additions to the database\n",
    "\n",
    "This notebook adds OSM POIs to the database for the cities that already exist in the database. Categories currently added:\n",
    "- Hospitals (including clinics)\n",
    "- Schools and kindergartens\n",
    "- Restaurants\n",
    "- Grocery stores\n",
    "- Cinemas and Theaters\n",
    "\n",
    "For amenity types available in OSM, see their [wiki](https://wiki.openstreetmap.org/wiki/Key:amenity).\n",
    "\n",
    "NOTE: **multiple runs will result in duplicate information in the database!**"
   ]
  },
  {
   "cell_type": "code",
   "execution_count": 3,
   "metadata": {},
   "outputs": [],
   "source": [
    "import psycopg2 as pg\n",
    "import h3\n",
    "from psycopg2.extras import execute_values\n",
    "import itertools as itt\n",
    "import configparser\n",
    "\n",
    "from OSMPythonTools.overpass import Overpass, overpassQueryBuilder\n",
    "\n",
    "H3_LEVEL = 9\n",
    "\n",
    "category_map = {\n",
    "    \"amenity\" : {\n",
    "        'Clinics and Hospitals': ['clinic', 'hospital'],\n",
    "        'Schools and Kindergartners': ['school', 'kindergarten'],\n",
    "        'Restaurants': ['restaurant'],\n",
    "        'Cinemas and Theaters': ['cinema', 'theatre'],\n",
    "    },\n",
    "    \"shop\": {\n",
    "        'Grocery stores and supermarkets': ['convenience', 'greengrocer', 'seafood', 'mall', 'wholesale', 'supermarket']\n",
    "    }\n",
    "}\n",
    "\n",
    "#reverse map for lookup afterwards\n",
    "cat_tuples = [[[(v,key) for v in values] for key, values in cat.items()] for cat in category_map.values()]\n",
    "lookup_map = {key: value for key, value in itt.chain(*itt.chain(*cat_tuples))}\n"
   ]
  },
  {
   "cell_type": "markdown",
   "metadata": {},
   "source": [
    "## Helper functions\n",
    "\n",
    "A couple of helper functions that use OSMPythonTools to build custom Overpass queries that allow us retrieving all types for a given city at once. This is a bit more flexible than what we had previously as we can work with our own bounding boxes and ensure that our \"city\" definitions are consistent everywhere."
   ]
  },
  {
   "cell_type": "code",
   "execution_count": 97,
   "metadata": {},
   "outputs": [],
   "source": [
    "#helper function that builds an Overpass query to retrieve multiple nodes at once with bounding box parameters\n",
    "def build_query(node_map, bbox):\n",
    "    bbox_string = \", \".join([str(b) for b in bbox])\n",
    "\n",
    "    nodes = []\n",
    "    for tag, tag_values in node_map.items():\n",
    "        for _, types in tag_values.items():\n",
    "            for t in types:\n",
    "                nodes.append(\"\"\"node[\"{:s}\"=\"{:s}\"]({:s});\"\"\".format(tag, t, bbox_string))\n",
    "\n",
    "    return \"\"\"\n",
    "    (\n",
    "        {}\n",
    "    ); out center; out body;\"\"\".format(\"\\n \".join(nodes))\n",
    "\n",
    "#helper function to parse Overpass results\n",
    "#yields a generator \n",
    "def parse_query_results(results, lookup_map):\n",
    "    for i, place in enumerate(results):\n",
    "        #find tag type\n",
    "        for c in category_map:\n",
    "            if place.tag(c) is not None:\n",
    "                #in some cases, places have multiple tags, of which only some are of interest (e.g. amenity=restaurant and shop=bakery)\n",
    "                #we only pick up the ones where the lookup in the predefined categories does not fail\n",
    "                try:\n",
    "                    category = lookup_map[place.tag(c)]\n",
    "                    name = place.tag(\"name\") if place.tag(\"name\") is not None else \"Unknown \" + place.tag(c)\n",
    "                    yield {\n",
    "                        \"Category\": category,\n",
    "                        \"Name\": name,\n",
    "                        \"Lat\": place.lat(),\n",
    "                        \"Long\": place.lon(),\n",
    "                        \"H3ID\": h3.geo_to_h3(place.lat(), place.lon(), H3_LEVEL)\n",
    "                    }\n",
    "                except KeyError:\n",
    "                    pass                \n",
    "\n",
    "#helper function that saves to database in batches\n",
    "def save_to_database(conn, places, template, batch_size=100):\n",
    "    #helper function for batching\n",
    "    def grouper(n, iterable):\n",
    "        it = iter(iterable)\n",
    "        while True:\n",
    "            chunk = list(itt.islice(it, n))\n",
    "            if not chunk:\n",
    "                return\n",
    "            yield chunk\n",
    "\n",
    "    with conn.cursor() as cur:\n",
    "        #save information into DB in batches of 100 locations                        \n",
    "        for batch in grouper(batch_size, places):            \n",
    "            execute_values(\n",
    "                cur, \n",
    "                'INSERT INTO public.pois (Name, H3ID, Lat, Long, Category) VALUES %s', \n",
    "                batch, \n",
    "                template=template\n",
    "            )      "
   ]
  },
  {
   "cell_type": "markdown",
   "metadata": {},
   "source": [
    "## Execution\n",
    "\n",
    "For each city in the DB, retrieve the bounding box, build the Overpass query, retrieve objects and save them to the database."
   ]
  },
  {
   "cell_type": "code",
   "execution_count": 6,
   "metadata": {},
   "outputs": [],
   "source": [
    "config = configparser.ConfigParser()\n",
    "config.read(\"../../../config/config.ini\")    \n",
    "db_params = config['DB']"
   ]
  },
  {
   "cell_type": "code",
   "execution_count": 105,
   "metadata": {},
   "outputs": [
    {
     "name": "stdout",
     "output_type": "stream",
     "text": [
      "Fetching OSM data for Atlanta..\n",
      "Found a total of 3352 OSM elements in the city\n"
     ]
    }
   ],
   "source": [
    "with pg.connect(**db_params) as conn:\n",
    "    with conn.cursor() as cur:\n",
    "        cur.execute(\"SELECT CityName, BoundingBox from public.cities\")\n",
    "        for city, bbox in cur.fetchall():\n",
    "            print(\"Fetching OSM data for {}..\".format(city))\n",
    "\n",
    "            #flipping the bbox as lat/long is in reversed order..\n",
    "            flipped_bbox = [bbox[1], bbox[0], bbox[3], bbox[2]]\n",
    "            \n",
    "            #run the overpass query\n",
    "            overpass = Overpass()\n",
    "            query = build_query(category_map, flipped_bbox)\n",
    "            result = overpass.query(query, timeout=360)\n",
    "            \n",
    "            #generator with results parsed\n",
    "            places = parse_query_results(result.elements(), lookup_map)\n",
    "            print(\"Found a total of {} OSM elements in the city\".format(result.countElements()))\n",
    "\n",
    "            #save everything to DB\n",
    "            template=\"(%(Name)s, %(H3ID)s, %(Lat)s, %(Long)s, %(Category)s)\"\n",
    "            save_to_database(conn, places=places, template=template, batch_size=100)\n",
    "\n",
    "            "
   ]
  }
 ],
 "metadata": {
  "interpreter": {
   "hash": "3d597f4c481aa0f25dceb95d2a0067e73c0966dcbd003d741d821a7208527ecf"
  },
  "kernelspec": {
   "display_name": "Python 3.9.7 ('base')",
   "language": "python",
   "name": "python3"
  },
  "language_info": {
   "codemirror_mode": {
    "name": "ipython",
    "version": 3
   },
   "file_extension": ".py",
   "mimetype": "text/x-python",
   "name": "python",
   "nbconvert_exporter": "python",
   "pygments_lexer": "ipython3",
   "version": "3.9.7"
  },
  "orig_nbformat": 4
 },
 "nbformat": 4,
 "nbformat_minor": 2
}
