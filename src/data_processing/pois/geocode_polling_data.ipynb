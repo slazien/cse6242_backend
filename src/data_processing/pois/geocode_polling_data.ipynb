{
 "cells": [
  {
   "cell_type": "code",
   "execution_count": 8,
   "id": "0b00125b-a03e-4b3e-baf5-bd20b3c6fadf",
   "metadata": {},
   "outputs": [],
   "source": [
    "import pandas as pd\n",
    "import geocoder\n",
    "\n",
    "from tqdm import tqdm\n",
    "\n",
    "import uuid\n",
    "from concurrent.futures import ThreadPoolExecutor, as_completed\n",
    "from multiprocessing import Pool\n",
    "import pickle"
   ]
  },
  {
   "cell_type": "code",
   "execution_count": 2,
   "id": "2e6159c2-c7b1-4d4b-9892-577fb0ed3c73",
   "metadata": {},
   "outputs": [],
   "source": [
    "PATH_DATA_POLLING = \"../../data/polling/Updated Statewide Polling Locations 10132020.xlsx\""
   ]
  },
  {
   "cell_type": "code",
   "execution_count": 3,
   "id": "14c14e3b-73bf-4602-8510-e6abd526cef8",
   "metadata": {},
   "outputs": [],
   "source": [
    "df_polling = pd.read_excel(PATH_DATA_POLLING)\n",
    "df_polling[\"address_complete\"] = df_polling[\"Street Number\"] + \" \" + df_polling[\"Street Name\"].str.title() + \", \" + df_polling[\"City\"].str.title() + \", \" + df_polling[\"State\"] + \" \" + df_polling[\"Zip5\"].astype(str)"
   ]
  },
  {
   "cell_type": "code",
   "execution_count": 4,
   "id": "7bd02729-ae3f-4c18-9538-81a77f853c5d",
   "metadata": {},
   "outputs": [],
   "source": [
    "addresses = list(df_polling.address_complete)"
   ]
  },
  {
   "cell_type": "code",
   "execution_count": 5,
   "id": "e8a10a3a-5c72-4143-9d9e-39cad1b110ad",
   "metadata": {},
   "outputs": [],
   "source": [
    "def geocode_backoff(address, verbose=False):\n",
    "    isok = False\n",
    "    while not isok:\n",
    "        address = \", \".join(address.split(\", \")[:-1])\n",
    "        if address == \"\":\n",
    "            isok = True\n",
    "        else:\n",
    "            response = geocoder.osm(address)\n",
    "            isok = response.ok\n",
    "            if not isok and verbose:\n",
    "                print(\"backing off\")\n",
    "    return response"
   ]
  },
  {
   "cell_type": "code",
   "execution_count": 68,
   "id": "c33a2548-b4c5-464c-91bb-d42db0385a2a",
   "metadata": {},
   "outputs": [
    {
     "name": "stdout",
     "output_type": "stream",
     "text": [
      "245 Industrial Dr, Baxley, GA 31513\n",
      "[31.782022, -82.342977]\n",
      "---------------------------------\n",
      "3397 Hatch Pky N, Baxley, GA 31513\n",
      "[31.7902269, -82.3517574]\n",
      "---------------------------------\n",
      "392 Altamaha School Rd, Baxley, GA 31513\n",
      "backing off\n",
      "[31.86896, -82.393356]\n",
      "---------------------------------\n",
      "353 Blackshear Hwy, Baxley, GA 31513\n",
      "[31.732963, -82.345131]\n",
      "---------------------------------\n",
      "252 W. Parker St., Baxley, GA 31513\n",
      "[31.7813196, -82.3573872]\n",
      "---------------------------------\n",
      "5274 Lake Mayers Rd., Baxley, GA 31513\n",
      "backing off\n",
      "[31.75829762905059, -82.47729074419406]\n",
      "---------------------------------\n",
      "83 S Oak St, Baxley, GA 31513\n",
      "[31.778087, -82.344803]\n",
      "---------------------------------\n",
      "525 Zion Baptist Ch. Rd., Baxley, GA 31513\n",
      "backing off\n",
      "[31.859586, -82.183802]\n",
      "---------------------------------\n",
      "16 Pratt Hutto Rd Se, Surrency, GA 31563\n",
      "backing off\n",
      "backing off\n",
      "None\n",
      "---------------------------------\n",
      "636 Austin Avenue E, Pearson, GA 31642\n",
      "[31.291522758027735, -82.84048759159688]\n",
      "---------------------------------\n",
      "7191 Atkinson Blvd. E., Axson, GA 31624\n",
      "backing off\n",
      "backing off\n",
      "None\n",
      "---------------------------------\n",
      "786 Austin Avenue East, Pearson, GA 31642\n",
      "[31.29473830612245, -82.84673926530613]\n",
      "---------------------------------\n",
      "33 Fleetwood Avenue, Willacoochee, GA 31650\n",
      "[31.340691013099793, -83.04803426907735]\n",
      "---------------------------------\n",
      "232 West 12Th Street, Alma, GA 31510\n",
      "[31.54164528282828, -82.46425669191919]\n",
      "---------------------------------\n",
      "100 Ga Hwy 200, Leary, GA 39862\n",
      "backing off\n",
      "[38.8014838, -86.8691608]\n",
      "---------------------------------\n",
      "1694 Jericho Rd, Newton, GA 0\n",
      "backing off\n",
      "[37.51156111194035, -85.63509096184185]\n",
      "---------------------------------\n",
      "5600 Hoggards Mill Rd, Colquitt, GA 0\n",
      "backing off\n",
      "backing off\n",
      "None\n",
      "---------------------------------\n",
      "1512 Patmos Milford Hwy, Leary, GA 0\n",
      "backing off\n",
      "[31.38259577965853, -84.54531862418496]\n",
      "---------------------------------\n",
      "279 W. Broad Street, Newton, GA 39870\n",
      "[41.18795682563283, -80.97625266601524]\n",
      "---------------------------------\n",
      "121 N Wilkinson St, Milledgeville, GA 31061\n",
      "[33.08289697151191, -83.22926965923065]\n",
      "---------------------------------\n",
      "127 E Hancock St, Milledgeville, GA 31061\n",
      "[33.081408, -83.2261883]\n",
      "---------------------------------\n",
      "252 Coopers Rd Sw, Milledgeville, GA 31061\n",
      "backing off\n",
      "backing off\n",
      "None\n",
      "---------------------------------\n",
      "751 Dunlap Rd Ne, Milledgeville, GA 31061\n",
      "backing off\n",
      "[42.4520234, -103.0236122]\n",
      "---------------------------------\n",
      "207 Lovers Ln Ne, Milledgeville, GA 31061\n",
      "backing off\n",
      "[43.045596, -85.653169]\n",
      "---------------------------------\n",
      "201 W Thomas St, Milledgeville, GA 31061\n",
      "[33.0847296687157, -83.23148198924257]\n",
      "---------------------------------\n",
      "1340 Orchard Hill Rd, Milledgeville, GA 31061\n",
      "[33.10110296043331, -83.22586526171395]\n",
      "---------------------------------\n",
      "124 Thomas St Se, Milledgeville, GA 31061\n",
      "backing off\n",
      "[42.3050245, -90.99676988461539]\n",
      "---------------------------------\n",
      "312 Allen Memorial Dr Sw, Milledgeville, GA 31061\n",
      "backing off\n",
      "[33.05456903054163, -83.24644446668972]\n",
      "---------------------------------\n",
      "781 Ga Highway 212 W, Milledgeville, GA 31061\n",
      "backing off\n",
      "backing off\n",
      "None\n",
      "---------------------------------\n",
      "184 Log Cabin Rd Ne, Milledgeville, GA 31061\n",
      "backing off\n",
      "backing off\n",
      "None\n",
      "---------------------------------\n"
     ]
    }
   ],
   "source": [
    "for address in addresses[:30]:\n",
    "    print(address)\n",
    "    print(geocode_backoff(address, True).latlng)\n",
    "    print(\"---------------------------------\")"
   ]
  },
  {
   "cell_type": "code",
   "execution_count": null,
   "id": "44ae490b-9e66-44f2-bed2-96e393d892c7",
   "metadata": {},
   "outputs": [],
   "source": [
    "list_latlon = []\n",
    "for address in tqdm(addresses):\n",
    "    list_latlon.append(geocode_backoff(address))\n",
    "with open(\"../../data/latlon_polling\", \"wb\") as f:\n",
    "    pickle.dump(list_latlon, f, protocol=pickle.HIGHEST_PROTOCOL)"
   ]
  },
  {
   "cell_type": "code",
   "execution_count": 21,
   "id": "e586ae7b-084f-4831-b6e8-e22f0656e051",
   "metadata": {},
   "outputs": [],
   "source": [
    "df_polling[\"lat\"] = [latlon[0] if latlon is not None else None for latlon in list_latlon]\n",
    "df_polling[\"lon\"] = [latlon[1] if latlon is not None else None for latlon in list_latlon]"
   ]
  },
  {
   "cell_type": "code",
   "execution_count": 25,
   "id": "4778e9f0-5a07-4535-af1b-f2e4131cb828",
   "metadata": {},
   "outputs": [],
   "source": [
    "df_polling.to_csv(\"../../data/polling_geocoded.csv\", index=False)"
   ]
  },
  {
   "cell_type": "code",
   "execution_count": null,
   "id": "6364f00f-125e-45c6-b8c9-49722f70c361",
   "metadata": {},
   "outputs": [],
   "source": [
    "# with Pool(5) as p:\n",
    "#     list_latlon_pool = list(tqdm(p.imap(geocode_address, addresses[:num_to_geocode]), total=num_to_geocode))\n",
    "    \n",
    "# list_latlon_runner = []\n",
    "# def runner():\n",
    "#     threads = []\n",
    "#     with ThreadPoolExecutor(max_workers=10) as executor:\n",
    "#         for i in range(num_to_geocode):\n",
    "#             file_name = uuid.uuid1()\n",
    "#             address = addresses[i]\n",
    "#             threads.append(executor.submit(geocode_address, address))\n",
    "#         for task in tqdm(as_completed(threads), total=num_to_geocode):\n",
    "#             list_latlon_runner.append(task.result())\n",
    "\n",
    "# runner()"
   ]
  }
 ],
 "metadata": {
  "kernelspec": {
   "display_name": "Python 3 (ipykernel)",
   "language": "python",
   "name": "python3"
  },
  "language_info": {
   "codemirror_mode": {
    "name": "ipython",
    "version": 3
   },
   "file_extension": ".py",
   "mimetype": "text/x-python",
   "name": "python",
   "nbconvert_exporter": "python",
   "pygments_lexer": "ipython3",
   "version": "3.8.10"
  }
 },
 "nbformat": 4,
 "nbformat_minor": 5
}
