{
 "cells": [
  {
   "cell_type": "code",
   "execution_count": 3,
   "metadata": {},
   "outputs": [],
   "source": [
    "import requests\n",
    "import geopandas as gpd"
   ]
  },
  {
   "cell_type": "code",
   "execution_count": 4,
   "metadata": {},
   "outputs": [],
   "source": [
    "class IsochroneService():\n",
    "\n",
    "    def __init__(\n",
    "        self, \n",
    "        times = None, \n",
    "        reference_date = '02-24-2022',\n",
    "        walk_reluctance = 5,\n",
    "        max_walk_distance = 1500,\n",
    "        min_transfer_time = 120,\n",
    "        mode = 'WALK,TRANSIT',\n",
    "        otp_port = 8801,\n",
    "    ):\n",
    "        if times is None:\n",
    "            times = {'morning': \"08:00am\", 'afternoon': \"2:00pm\", 'evening': \"8:00pm\"}\n",
    "        self.times = times\n",
    "        self.ref_date = reference_date\n",
    "        self.walk_reluctance = walk_reluctance\n",
    "        self.min_transfer_time = min_transfer_time\n",
    "        self.mode = mode\n",
    "        self.max_walk_distance = max_walk_distance\n",
    "        self.otp_port = otp_port\n",
    "    \n",
    "\n",
    "    def get_isochrone(self, lat, lon, city='atlanta', time='morning', minutes=30):\n",
    "        #documentation @ http://dev.opentripplanner.org/apidoc/1.5.0/resource_LIsochrone.html\n",
    "        \n",
    "        assert time in self.times, \"Invalid time category. Provided {}, should be one of {}\".format(time, \", \".join(self.times))\n",
    "        time_spec = self.times[time]\n",
    "\n",
    "        response = requests.get(\n",
    "            'http://localhost:{}/otp/routers/{}/isochrone'.format(self.otp_port, city),\n",
    "            params= {\n",
    "                'toPlace': '{},{}'.format(lat, lon), #lat long pair of starting point\n",
    "                'mode': self.mode,\n",
    "                'date': self.ref_date,\n",
    "                'time': time_spec,\n",
    "                'maxWalkDistance': self.max_walk_distance,\n",
    "                'walkReluctance': self.walk_reluctance,\n",
    "                'minTransferTime': self.min_transfer_time,\n",
    "                'cutoffSec': minutes * 60\n",
    "            },\n",
    "        )\n",
    "        \n",
    "        return gpd.read_file(response.text).explode(index_parts=True)"
   ]
  },
  {
   "cell_type": "code",
   "execution_count": 5,
   "metadata": {},
   "outputs": [
    {
     "ename": "DriverError",
     "evalue": "java.lang.NullPointerException null: No such file or directory",
     "output_type": "error",
     "traceback": [
      "\u001b[0;31m---------------------------------------------------------------------------\u001b[0m",
      "\u001b[0;31mCPLE_OpenFailedError\u001b[0m                      Traceback (most recent call last)",
      "File \u001b[0;32mfiona/_shim.pyx:83\u001b[0m, in \u001b[0;36mfiona._shim.gdal_open_vector\u001b[0;34m()\u001b[0m\n",
      "File \u001b[0;32mfiona/_err.pyx:291\u001b[0m, in \u001b[0;36mfiona._err.exc_wrap_pointer\u001b[0;34m()\u001b[0m\n",
      "\u001b[0;31mCPLE_OpenFailedError\u001b[0m: java.lang.NullPointerException null: No such file or directory",
      "\nDuring handling of the above exception, another exception occurred:\n",
      "\u001b[0;31mDriverError\u001b[0m                               Traceback (most recent call last)",
      "\u001b[1;32m/srv/backend/src/data_processing/pois/03_isochrones.ipynb Cell 3'\u001b[0m in \u001b[0;36m<cell line: 2>\u001b[0;34m()\u001b[0m\n\u001b[1;32m      <a href='vscode-notebook-cell://ssh-remote%2B20.231.46.77/srv/backend/src/data_processing/pois/03_isochrones.ipynb#ch0000002vscode-remote?line=0'>1</a>\u001b[0m service \u001b[39m=\u001b[39m IsochroneService()\n\u001b[0;32m----> <a href='vscode-notebook-cell://ssh-remote%2B20.231.46.77/srv/backend/src/data_processing/pois/03_isochrones.ipynb#ch0000002vscode-remote?line=1'>2</a>\u001b[0m service\u001b[39m.\u001b[39;49mget_isochrone(\u001b[39m33.781961\u001b[39;49m, \u001b[39m-\u001b[39;49m\u001b[39m84.396635\u001b[39;49m)\n",
      "\u001b[1;32m/srv/backend/src/data_processing/pois/03_isochrones.ipynb Cell 2'\u001b[0m in \u001b[0;36mIsochroneService.get_isochrone\u001b[0;34m(self, lat, lon, city, time, minutes)\u001b[0m\n\u001b[1;32m     <a href='vscode-notebook-cell://ssh-remote%2B20.231.46.77/srv/backend/src/data_processing/pois/03_isochrones.ipynb#ch0000000vscode-remote?line=25'>26</a>\u001b[0m time_spec \u001b[39m=\u001b[39m \u001b[39mself\u001b[39m\u001b[39m.\u001b[39mtimes[time]\n\u001b[1;32m     <a href='vscode-notebook-cell://ssh-remote%2B20.231.46.77/srv/backend/src/data_processing/pois/03_isochrones.ipynb#ch0000000vscode-remote?line=27'>28</a>\u001b[0m response \u001b[39m=\u001b[39m requests\u001b[39m.\u001b[39mget(\n\u001b[1;32m     <a href='vscode-notebook-cell://ssh-remote%2B20.231.46.77/srv/backend/src/data_processing/pois/03_isochrones.ipynb#ch0000000vscode-remote?line=28'>29</a>\u001b[0m     \u001b[39m'\u001b[39m\u001b[39mhttp://localhost:8801/otp/routers/\u001b[39m\u001b[39m{}\u001b[39;00m\u001b[39m/isochrone\u001b[39m\u001b[39m'\u001b[39m\u001b[39m.\u001b[39mformat(city),\n\u001b[1;32m     <a href='vscode-notebook-cell://ssh-remote%2B20.231.46.77/srv/backend/src/data_processing/pois/03_isochrones.ipynb#ch0000000vscode-remote?line=29'>30</a>\u001b[0m     params\u001b[39m=\u001b[39m {\n\u001b[0;32m   (...)\u001b[0m\n\u001b[1;32m     <a href='vscode-notebook-cell://ssh-remote%2B20.231.46.77/srv/backend/src/data_processing/pois/03_isochrones.ipynb#ch0000000vscode-remote?line=38'>39</a>\u001b[0m     },\n\u001b[1;32m     <a href='vscode-notebook-cell://ssh-remote%2B20.231.46.77/srv/backend/src/data_processing/pois/03_isochrones.ipynb#ch0000000vscode-remote?line=39'>40</a>\u001b[0m )\n\u001b[0;32m---> <a href='vscode-notebook-cell://ssh-remote%2B20.231.46.77/srv/backend/src/data_processing/pois/03_isochrones.ipynb#ch0000000vscode-remote?line=41'>42</a>\u001b[0m \u001b[39mreturn\u001b[39;00m gpd\u001b[39m.\u001b[39;49mread_file(response\u001b[39m.\u001b[39;49mtext)\u001b[39m.\u001b[39mexplode(index_parts\u001b[39m=\u001b[39m\u001b[39mTrue\u001b[39;00m)\n",
      "File \u001b[0;32m/opt/miniconda3/lib/python3.9/site-packages/geopandas/io/file.py:201\u001b[0m, in \u001b[0;36m_read_file\u001b[0;34m(filename, bbox, mask, rows, **kwargs)\u001b[0m\n\u001b[1;32m    <a href='file:///opt/miniconda3/lib/python3.9/site-packages/geopandas/io/file.py?line=197'>198</a>\u001b[0m     reader \u001b[39m=\u001b[39m fiona\u001b[39m.\u001b[39mopen\n\u001b[1;32m    <a href='file:///opt/miniconda3/lib/python3.9/site-packages/geopandas/io/file.py?line=199'>200</a>\u001b[0m \u001b[39mwith\u001b[39;00m fiona_env():\n\u001b[0;32m--> <a href='file:///opt/miniconda3/lib/python3.9/site-packages/geopandas/io/file.py?line=200'>201</a>\u001b[0m     \u001b[39mwith\u001b[39;00m reader(path_or_bytes, \u001b[39m*\u001b[39;49m\u001b[39m*\u001b[39;49mkwargs) \u001b[39mas\u001b[39;00m features:\n\u001b[1;32m    <a href='file:///opt/miniconda3/lib/python3.9/site-packages/geopandas/io/file.py?line=201'>202</a>\u001b[0m \n\u001b[1;32m    <a href='file:///opt/miniconda3/lib/python3.9/site-packages/geopandas/io/file.py?line=202'>203</a>\u001b[0m         \u001b[39m# In a future Fiona release the crs attribute of features will\u001b[39;00m\n\u001b[1;32m    <a href='file:///opt/miniconda3/lib/python3.9/site-packages/geopandas/io/file.py?line=203'>204</a>\u001b[0m         \u001b[39m# no longer be a dict, but will behave like a dict. So this should\u001b[39;00m\n\u001b[1;32m    <a href='file:///opt/miniconda3/lib/python3.9/site-packages/geopandas/io/file.py?line=204'>205</a>\u001b[0m         \u001b[39m# be forwards compatible\u001b[39;00m\n\u001b[1;32m    <a href='file:///opt/miniconda3/lib/python3.9/site-packages/geopandas/io/file.py?line=205'>206</a>\u001b[0m         crs \u001b[39m=\u001b[39m (\n\u001b[1;32m    <a href='file:///opt/miniconda3/lib/python3.9/site-packages/geopandas/io/file.py?line=206'>207</a>\u001b[0m             features\u001b[39m.\u001b[39mcrs[\u001b[39m\"\u001b[39m\u001b[39minit\u001b[39m\u001b[39m\"\u001b[39m]\n\u001b[1;32m    <a href='file:///opt/miniconda3/lib/python3.9/site-packages/geopandas/io/file.py?line=207'>208</a>\u001b[0m             \u001b[39mif\u001b[39;00m features\u001b[39m.\u001b[39mcrs \u001b[39mand\u001b[39;00m \u001b[39m\"\u001b[39m\u001b[39minit\u001b[39m\u001b[39m\"\u001b[39m \u001b[39min\u001b[39;00m features\u001b[39m.\u001b[39mcrs\n\u001b[1;32m    <a href='file:///opt/miniconda3/lib/python3.9/site-packages/geopandas/io/file.py?line=208'>209</a>\u001b[0m             \u001b[39melse\u001b[39;00m features\u001b[39m.\u001b[39mcrs_wkt\n\u001b[1;32m    <a href='file:///opt/miniconda3/lib/python3.9/site-packages/geopandas/io/file.py?line=209'>210</a>\u001b[0m         )\n\u001b[1;32m    <a href='file:///opt/miniconda3/lib/python3.9/site-packages/geopandas/io/file.py?line=211'>212</a>\u001b[0m         \u001b[39m# handle loading the bounding box\u001b[39;00m\n",
      "File \u001b[0;32m/opt/miniconda3/lib/python3.9/site-packages/fiona/env.py:408\u001b[0m, in \u001b[0;36mensure_env_with_credentials.<locals>.wrapper\u001b[0;34m(*args, **kwargs)\u001b[0m\n\u001b[1;32m    <a href='file:///opt/miniconda3/lib/python3.9/site-packages/fiona/env.py?line=404'>405</a>\u001b[0m \u001b[39m@wraps\u001b[39m(f)\n\u001b[1;32m    <a href='file:///opt/miniconda3/lib/python3.9/site-packages/fiona/env.py?line=405'>406</a>\u001b[0m \u001b[39mdef\u001b[39;00m \u001b[39mwrapper\u001b[39m(\u001b[39m*\u001b[39margs, \u001b[39m*\u001b[39m\u001b[39m*\u001b[39mkwargs):\n\u001b[1;32m    <a href='file:///opt/miniconda3/lib/python3.9/site-packages/fiona/env.py?line=406'>407</a>\u001b[0m     \u001b[39mif\u001b[39;00m local\u001b[39m.\u001b[39m_env:\n\u001b[0;32m--> <a href='file:///opt/miniconda3/lib/python3.9/site-packages/fiona/env.py?line=407'>408</a>\u001b[0m         \u001b[39mreturn\u001b[39;00m f(\u001b[39m*\u001b[39;49margs, \u001b[39m*\u001b[39;49m\u001b[39m*\u001b[39;49mkwargs)\n\u001b[1;32m    <a href='file:///opt/miniconda3/lib/python3.9/site-packages/fiona/env.py?line=408'>409</a>\u001b[0m     \u001b[39melse\u001b[39;00m:\n\u001b[1;32m    <a href='file:///opt/miniconda3/lib/python3.9/site-packages/fiona/env.py?line=409'>410</a>\u001b[0m         \u001b[39mif\u001b[39;00m \u001b[39misinstance\u001b[39m(args[\u001b[39m0\u001b[39m], \u001b[39mstr\u001b[39m):\n",
      "File \u001b[0;32m/opt/miniconda3/lib/python3.9/site-packages/fiona/__init__.py:264\u001b[0m, in \u001b[0;36mopen\u001b[0;34m(fp, mode, driver, schema, crs, encoding, layer, vfs, enabled_drivers, crs_wkt, **kwargs)\u001b[0m\n\u001b[1;32m    <a href='file:///opt/miniconda3/lib/python3.9/site-packages/fiona/__init__.py?line=260'>261</a>\u001b[0m     path \u001b[39m=\u001b[39m parse_path(fp)\n\u001b[1;32m    <a href='file:///opt/miniconda3/lib/python3.9/site-packages/fiona/__init__.py?line=262'>263</a>\u001b[0m \u001b[39mif\u001b[39;00m mode \u001b[39min\u001b[39;00m (\u001b[39m'\u001b[39m\u001b[39ma\u001b[39m\u001b[39m'\u001b[39m, \u001b[39m'\u001b[39m\u001b[39mr\u001b[39m\u001b[39m'\u001b[39m):\n\u001b[0;32m--> <a href='file:///opt/miniconda3/lib/python3.9/site-packages/fiona/__init__.py?line=263'>264</a>\u001b[0m     c \u001b[39m=\u001b[39m Collection(path, mode, driver\u001b[39m=\u001b[39;49mdriver, encoding\u001b[39m=\u001b[39;49mencoding,\n\u001b[1;32m    <a href='file:///opt/miniconda3/lib/python3.9/site-packages/fiona/__init__.py?line=264'>265</a>\u001b[0m                    layer\u001b[39m=\u001b[39;49mlayer, enabled_drivers\u001b[39m=\u001b[39;49menabled_drivers, \u001b[39m*\u001b[39;49m\u001b[39m*\u001b[39;49mkwargs)\n\u001b[1;32m    <a href='file:///opt/miniconda3/lib/python3.9/site-packages/fiona/__init__.py?line=265'>266</a>\u001b[0m \u001b[39melif\u001b[39;00m mode \u001b[39m==\u001b[39m \u001b[39m'\u001b[39m\u001b[39mw\u001b[39m\u001b[39m'\u001b[39m:\n\u001b[1;32m    <a href='file:///opt/miniconda3/lib/python3.9/site-packages/fiona/__init__.py?line=266'>267</a>\u001b[0m     \u001b[39mif\u001b[39;00m schema:\n\u001b[1;32m    <a href='file:///opt/miniconda3/lib/python3.9/site-packages/fiona/__init__.py?line=267'>268</a>\u001b[0m         \u001b[39m# Make an ordered dict of schema properties.\u001b[39;00m\n",
      "File \u001b[0;32m/opt/miniconda3/lib/python3.9/site-packages/fiona/collection.py:162\u001b[0m, in \u001b[0;36mCollection.__init__\u001b[0;34m(self, path, mode, driver, schema, crs, encoding, layer, vsi, archive, enabled_drivers, crs_wkt, ignore_fields, ignore_geometry, **kwargs)\u001b[0m\n\u001b[1;32m    <a href='file:///opt/miniconda3/lib/python3.9/site-packages/fiona/collection.py?line=159'>160</a>\u001b[0m \u001b[39mif\u001b[39;00m \u001b[39mself\u001b[39m\u001b[39m.\u001b[39mmode \u001b[39m==\u001b[39m \u001b[39m'\u001b[39m\u001b[39mr\u001b[39m\u001b[39m'\u001b[39m:\n\u001b[1;32m    <a href='file:///opt/miniconda3/lib/python3.9/site-packages/fiona/collection.py?line=160'>161</a>\u001b[0m     \u001b[39mself\u001b[39m\u001b[39m.\u001b[39msession \u001b[39m=\u001b[39m Session()\n\u001b[0;32m--> <a href='file:///opt/miniconda3/lib/python3.9/site-packages/fiona/collection.py?line=161'>162</a>\u001b[0m     \u001b[39mself\u001b[39;49m\u001b[39m.\u001b[39;49msession\u001b[39m.\u001b[39;49mstart(\u001b[39mself\u001b[39;49m, \u001b[39m*\u001b[39;49m\u001b[39m*\u001b[39;49mkwargs)\n\u001b[1;32m    <a href='file:///opt/miniconda3/lib/python3.9/site-packages/fiona/collection.py?line=162'>163</a>\u001b[0m \u001b[39melif\u001b[39;00m \u001b[39mself\u001b[39m\u001b[39m.\u001b[39mmode \u001b[39min\u001b[39;00m (\u001b[39m'\u001b[39m\u001b[39ma\u001b[39m\u001b[39m'\u001b[39m, \u001b[39m'\u001b[39m\u001b[39mw\u001b[39m\u001b[39m'\u001b[39m):\n\u001b[1;32m    <a href='file:///opt/miniconda3/lib/python3.9/site-packages/fiona/collection.py?line=163'>164</a>\u001b[0m     \u001b[39mself\u001b[39m\u001b[39m.\u001b[39msession \u001b[39m=\u001b[39m WritingSession()\n",
      "File \u001b[0;32mfiona/ogrext.pyx:540\u001b[0m, in \u001b[0;36mfiona.ogrext.Session.start\u001b[0;34m()\u001b[0m\n",
      "File \u001b[0;32mfiona/_shim.pyx:90\u001b[0m, in \u001b[0;36mfiona._shim.gdal_open_vector\u001b[0;34m()\u001b[0m\n",
      "\u001b[0;31mDriverError\u001b[0m: java.lang.NullPointerException null: No such file or directory"
     ]
    }
   ],
   "source": [
    "service = IsochroneService()\n",
    "service.get_isochrone(33.781961, -84.396635)"
   ]
  },
  {
   "cell_type": "code",
   "execution_count": null,
   "metadata": {},
   "outputs": [],
   "source": []
  }
 ],
 "metadata": {
  "interpreter": {
   "hash": "3d597f4c481aa0f25dceb95d2a0067e73c0966dcbd003d741d821a7208527ecf"
  },
  "kernelspec": {
   "display_name": "Python 3.9.7 ('base')",
   "language": "python",
   "name": "python3"
  },
  "language_info": {
   "codemirror_mode": {
    "name": "ipython",
    "version": 3
   },
   "file_extension": ".py",
   "mimetype": "text/x-python",
   "name": "python",
   "nbconvert_exporter": "python",
   "pygments_lexer": "ipython3",
   "version": "3.9.7"
  },
  "orig_nbformat": 4
 },
 "nbformat": 4,
 "nbformat_minor": 2
}
