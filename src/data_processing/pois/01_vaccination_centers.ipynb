{
 "cells": [
  {
   "cell_type": "markdown",
   "metadata": {},
   "source": [
    "# Storing vaccination center data\n",
    "\n",
    "This notebook parses and saves data of COVID-19 vaccination centers. Original source data retrieved from [CDC website](https://data.cdc.gov/Vaccinations/Vaccines-gov-COVID-19-vaccinating-provider-locatio/5jp2-pgaw)."
   ]
  },
  {
   "cell_type": "code",
   "execution_count": 1,
   "metadata": {},
   "outputs": [],
   "source": [
    "import pandas as pd\n",
    "import psycopg2 as pg\n",
    "import geopandas as gpd\n",
    "import h3pandas\n",
    "import h3\n",
    "from psycopg2.extras import execute_values\n",
    "import itertools as itt\n",
    "import configparser\n",
    "\n",
    "data_path = '../../../data/vaccinating_provider_locations.csv'\n",
    "\n",
    "H3_LEVEL = 9\n",
    "\n",
    "config = configparser.ConfigParser()\n",
    "config.read(\"../../../config/config.ini\")    \n",
    "db_params = config['DB']"
   ]
  },
  {
   "cell_type": "markdown",
   "metadata": {},
   "source": [
    "## Seting up POI table"
   ]
  },
  {
   "cell_type": "code",
   "execution_count": 2,
   "metadata": {},
   "outputs": [],
   "source": [
    "\n",
    "table_sql = \"\"\"\n",
    "    CREATE TABLE IF NOT EXISTS public.pois\n",
    "    (\n",
    "        POIID serial NOT NULL,\n",
    "        Name varchar(150) NOT NULL,\n",
    "        H3ID char(15) NOT NULL,\n",
    "        Category varchar(50) NOT NULL,\n",
    "        Lat real NOT NULL,\n",
    "        Long real NOT NULL,\n",
    "        PRIMARY KEY (POIID)\n",
    "    );\n",
    "\n",
    "    CREATE INDEX IF NOT EXISTS poi_h3_index ON public.pois USING HASH (H3ID);\n",
    "\n",
    "    CREATE INDEX IF NOT EXISTS poi_category_index ON public.pois USING HASH (Category);\n",
    "\"\"\"\n",
    "\n",
    "with pg.connect(**db_params) as conn:\n",
    "    with conn.cursor() as cur:\n",
    "        cur.execute(table_sql)"
   ]
  },
  {
   "cell_type": "markdown",
   "metadata": {},
   "source": [
    "## Saving vaccination center information"
   ]
  },
  {
   "cell_type": "code",
   "execution_count": 23,
   "metadata": {},
   "outputs": [
    {
     "name": "stdout",
     "output_type": "stream",
     "text": [
      "Total vaccination centers across US: 310490\n",
      "Number of locations with missing coordinates: 42 (will be skipped)\n",
      "Number of locations marked as out of stock: 178585 (will be included)\n",
      "Vaccination centers to be inserted into DB: 310448\n"
     ]
    }
   ],
   "source": [
    "df = pd.read_csv(data_path, usecols=['loc_name', 'latitude', 'longitude', 'in_stock', 'Category'])\n",
    "print(\"Total vaccination centers across US: {}\".format(len(df)))\n",
    "print(\"Number of locations with missing coordinates: {} (will be skipped)\".format(len(df[df['latitude'].isna() | df['longitude'].isna()])))\n",
    "df = df.dropna()\n",
    "print(\"Number of locations marked as out of stock: {} (will be included)\".format(len(df[df['in_stock'] == False])))\n",
    "print(\"Vaccination centers to be inserted into DB: {}\".format(len(df)))"
   ]
  },
  {
   "cell_type": "code",
   "execution_count": 25,
   "metadata": {},
   "outputs": [],
   "source": [
    "gdf = gpd.GeoDataFrame(df, geometry=gpd.points_from_xy(df.longitude, df.latitude))\n",
    "gdf = gdf.h3.geo_to_h3(resolution=H3_LEVEL, set_index=False)\n",
    "gdf['Category'] = 'Vaccination centre'\n",
    "gdf = gdf.rename({\"h3_09\": \"H3ID\", \"loc_name\": \"Name\"}, axis=1)"
   ]
  },
  {
   "cell_type": "code",
   "execution_count": 26,
   "metadata": {},
   "outputs": [
    {
     "name": "stdout",
     "output_type": "stream",
     "text": [
      "Inserting vaccination centers\n",
      "Saving item #0\n",
      "Saving item #100000\n",
      "Saving item #200000\n",
      "Saving item #300000\n"
     ]
    }
   ],
   "source": [
    "#helper function for batching\n",
    "def grouper(n, iterable):\n",
    "    it = iter(iterable)\n",
    "    while True:\n",
    "        chunk = list(itt.islice(it, n))\n",
    "        if not chunk:\n",
    "            return\n",
    "        yield chunk\n",
    "\n",
    "with pg.connect(**db_params) as conn:    \n",
    "    with conn.cursor() as cur:\n",
    "        #check if vaccination centers already exist - if so, skip    \n",
    "        cur.execute(\"\"\" SELECT POIID FROM public.pois WHERE Category = %s \"\"\", (\"Vaccination centre\",))\n",
    "        if cur.fetchone() is None:\n",
    "            print(f\"Inserting vaccination centers\")\n",
    "                        \n",
    "            #save information into DB in batches of 100 locations\n",
    "            batch_size = 100\n",
    "            tuple_iterator = gdf[['Name', 'H3ID', 'latitude', 'longitude', 'Category']].itertuples(index=False, name=None)\n",
    "            for i, batch in enumerate(grouper(100, tuple_iterator)):\n",
    "                if i % 1000 == 0:\n",
    "                    print(\"Saving item #{}\".format(i * batch_size))                \n",
    "                execute_values(cur, 'INSERT INTO public.pois (Name, H3ID, Lat, Long, Category) VALUES %s', batch)                \n",
    "        else: \n",
    "            print(f\"Vaccination centers already exist - skipping\")\n"
   ]
  }
 ],
 "metadata": {
  "interpreter": {
   "hash": "3d597f4c481aa0f25dceb95d2a0067e73c0966dcbd003d741d821a7208527ecf"
  },
  "kernelspec": {
   "display_name": "Python 3.9.7 ('base')",
   "language": "python",
   "name": "python3"
  },
  "language_info": {
   "codemirror_mode": {
    "name": "ipython",
    "version": 3
   },
   "file_extension": ".py",
   "mimetype": "text/x-python",
   "name": "python",
   "nbconvert_exporter": "python",
   "pygments_lexer": "ipython3",
   "version": "3.9.7"
  },
  "orig_nbformat": 4
 },
 "nbformat": 4,
 "nbformat_minor": 2
}
