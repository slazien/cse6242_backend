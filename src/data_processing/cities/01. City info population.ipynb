{
 "cells": [
  {
   "cell_type": "markdown",
   "id": "3650a997-d218-4ad2-9eb0-af52df2a69ea",
   "metadata": {
    "tags": []
   },
   "source": [
    "# Populating city and cityH3Map tables\n",
    "\n",
    "This notebook populates DB tables with city boundary data. \n",
    "Bounding boxes are determined outside of this notebook based on manual comparisons of public transit network coverage and city boundaries."
   ]
  },
  {
   "cell_type": "code",
   "execution_count": 2,
   "id": "04d16985-d09b-4b7b-8361-8c3cc1c5fcfd",
   "metadata": {},
   "outputs": [],
   "source": [
    "import psycopg2\n",
    "import h3\n",
    "import geopandas as gpd\n",
    "from shapely import geometry\n",
    "import json\n",
    "import h3pandas\n",
    "import itertools as itt\n",
    "import configparser\n",
    "\n",
    "from psycopg2.extras import execute_values"
   ]
  },
  {
   "cell_type": "code",
   "execution_count": 7,
   "id": "4146c7bc",
   "metadata": {},
   "outputs": [],
   "source": [
    "config = configparser.ConfigParser()\n",
    "config.read(\"../../../config/config.ini\")    \n",
    "db_params = config['DB']"
   ]
  },
  {
   "cell_type": "markdown",
   "id": "b9136d72-4293-4401-b978-4163e63534ce",
   "metadata": {},
   "source": [
    "## DB setup"
   ]
  },
  {
   "cell_type": "code",
   "execution_count": 8,
   "id": "60a6e371-9249-45d7-bf31-0c16f7e52863",
   "metadata": {},
   "outputs": [],
   "source": [
    "city_table_sql = \"\"\"CREATE TABLE IF NOT EXISTS public.cities\n",
    "(\n",
    "    CityID serial NOT NULL,\n",
    "    CityName varchar(50) NOT NULL,\n",
    "    BoundingBox real[],\n",
    "    PRIMARY KEY (CityID)\n",
    ");\"\"\"\n",
    "\n",
    "\n",
    "cityh3map_table_sql = \"\"\"\n",
    "CREATE TABLE IF NOT EXISTS public.cityh3map\n",
    "(\n",
    "    id serial NOT NULL,\n",
    "    CityID integer NOT NULL,\n",
    "    H3ID character(15) NOT NULL,    \n",
    "    PRIMARY KEY (\"id\")\n",
    ");\n",
    "\n",
    "CREATE INDEX IF NOT EXISTS city_id_index ON public.cityh3map USING HASH (CityID);\n",
    "\n",
    "CREATE INDEX IF NOT EXISTS city_h3_index ON public.cityh3map USING HASH (H3ID);\n",
    "\n",
    "\"\"\"\n",
    "\n",
    "with psycopg2.connect(**db_params) as conn:\n",
    "    with conn.cursor() as cur:\n",
    "        cur.execute(city_table_sql)\n",
    "        cur.execute(cityh3map_table_sql)"
   ]
  },
  {
   "cell_type": "markdown",
   "id": "aa6d3976-d959-4e3f-af4e-af02b1832786",
   "metadata": {},
   "source": [
    "## Inserting data into DB\n",
    "\n",
    "Using **level 9** for as the main basis hexagons"
   ]
  },
  {
   "cell_type": "code",
   "execution_count": 9,
   "id": "baccd072-cd67-4a10-96bf-ee4239f56cd4",
   "metadata": {},
   "outputs": [],
   "source": [
    "H3_LEVEL = 9\n",
    "cities = [\n",
    "    ('Atlanta', [-84.617192, 33.521005, -84.126103, 34.010137]),\n",
    "    ('New York', [-74.255757, 40.495838, -73.699604, 40.915166]),\n",
    "    ('Los Angeles', [-118.664435, 33.704742, -117.6829, 34.328]),\n",
    "    ('Chicago', [-87.946499, 41.643549, -87.521857, 42.0841]),\n",
    "    ('Dallas', [-97.090408, 32.557906, -96.556455, 33.125973])\n",
    "]"
   ]
  },
  {
   "cell_type": "code",
   "execution_count": 10,
   "id": "cb659e68-9eec-419f-9ade-5add5605219b",
   "metadata": {},
   "outputs": [
    {
     "name": "stdout",
     "output_type": "stream",
     "text": [
      "Atlanta already exists - skipping\n",
      "New York already exists - skipping\n",
      "Los Angeles already exists - skipping\n",
      "Chicago already exists - skipping\n",
      "Dallas already exists - skipping\n"
     ]
    }
   ],
   "source": [
    "with psycopg2.connect(**db_params) as conn:\n",
    "    with conn.cursor() as cur:\n",
    "        for name, bbox in cities:\n",
    "            #check if the city already exists - if so, skip    \n",
    "            cur.execute(\"\"\" SELECT cities.CityID FROM public.cities WHERE CityName = %s \"\"\", (name,))\n",
    "            if cur.fetchone() is None:\n",
    "                print(f\"Inserting {name}\")\n",
    "                \n",
    "                #add city to the city list\n",
    "                cur.execute(\"\"\"INSERT INTO public.cities (CityName, BoundingBox) VALUES(%s, %s) RETURNING CityID \"\"\", (name, bbox))\n",
    "                city_id = cur.fetchone()[0]\n",
    "                \n",
    "                #find all h3 polygons\n",
    "                polygon = geometry.Polygon(geometry.box(*bbox))\n",
    "                gdf = gpd.GeoDataFrame(geometry=gpd.GeoSeries([polygon]))\n",
    "                h3_inds = gdf.h3.polyfill(resolution=H3_LEVEL, explode=True).h3_polyfill.values\n",
    "                print(\"Found {} polygons in the area\".format(len(h3_inds)))\n",
    "                \n",
    "                #save h3 polygons to DB\n",
    "                vals = zip(itt.repeat(city_id), h3_inds)\n",
    "                execute_values(cur, \"INSERT INTO public.cityh3map (CityID, H3ID) VALUES %s\", list(vals))\n",
    "            else: \n",
    "                print(f\"{name} already exists - skipping\")\n"
   ]
  }
 ],
 "metadata": {
  "kernelspec": {
   "display_name": "Python 3",
   "language": "python",
   "name": "python3"
  },
  "language_info": {
   "codemirror_mode": {
    "name": "ipython",
    "version": 3
   },
   "file_extension": ".py",
   "mimetype": "text/x-python",
   "name": "python",
   "nbconvert_exporter": "python",
   "pygments_lexer": "ipython3",
   "version": "3.9.7"
  }
 },
 "nbformat": 4,
 "nbformat_minor": 5
}
