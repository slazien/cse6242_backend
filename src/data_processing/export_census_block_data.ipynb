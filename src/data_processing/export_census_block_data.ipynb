{
 "cells": [
  {
   "cell_type": "code",
   "execution_count": 1,
   "id": "e99aae5d-ba4a-48e5-b528-90d04efc26bb",
   "metadata": {},
   "outputs": [],
   "source": [
    "import sys\n",
    "sys.path.append(\"../src\")\n",
    "\n",
    "import pandas as pd\n",
    "\n",
    "from census import read_shapefile"
   ]
  },
  {
   "cell_type": "code",
   "execution_count": 2,
   "id": "d5d072d3-8fac-41fb-be26-811f9d3178b9",
   "metadata": {},
   "outputs": [],
   "source": [
    "PATH_SHAPEFILE = \"../../data/census_blocks_atlanta_shapefile.zip\""
   ]
  },
  {
   "cell_type": "code",
   "execution_count": 3,
   "id": "5f232343-85e0-4b55-9fe8-6b2558249e10",
   "metadata": {},
   "outputs": [],
   "source": [
    "df_shapefile = read_shapefile(PATH_SHAPEFILE)\n",
    "df_shapefile = df_shapefile.astype({\"INTPTLAT20\": \"float\", \"INTPTLON20\": \"float\"})\n",
    "df_shapefile = df_shapefile.set_index(\"GEOID20\")"
   ]
  },
  {
   "cell_type": "code",
   "execution_count": 4,
   "id": "f0c92392-bdb8-4c7b-922b-3ffda9044e86",
   "metadata": {},
   "outputs": [],
   "source": [
    "df_race = pd.read_csv(\"../../data/census_block_race/DECENNIALPL2020.P1_data_with_overlays_2021-12-09T172014.csv\", low_memory=False, header=1)\n",
    "df_race.columns = [colname.strip() for colname in list(df_race.columns)]\n",
    "colnames_final = [\"pop_white\", \"pop_black\", \"pop_indian_alaskan\", \n",
    "                  \"pop_asian\", \"pop_hawaiian_pacific\", \"pop_other\",\n",
    "                  \"!!Total:\"\n",
    "                 ]\n",
    "df_race = df_race.rename(\n",
    "    columns=\n",
    "    {\n",
    "        \"!!Total:\": \"pop_total\",\n",
    "        \"!!Total:!!Population of one race:!!White alone\": \"pop_white\",\n",
    "        \"!!Total:!!Population of one race:!!Black or African American alone\": \"pop_black\",\n",
    "        \"!!Total:!!Population of one race:!!American Indian and Alaska Native alone\": \"pop_indian_alaskan\",\n",
    "        \"!!Total:!!Population of one race:!!Asian alone\": \"pop_asian\",\n",
    "        \"!!Total:!!Population of one race:!!Native Hawaiian and Other Pacific Islander alone\": \"pop_hawaiian_pacific\",\n",
    "        \"!!Total:!!Population of one race:!!Some Other Race alone\": \"pop_other\"\n",
    "    })\n",
    "df_race[\"id_sub\"] = df_race.id.str.slice(9, 30)\n",
    "df_race = df_race.set_index(\"id_sub\")\n",
    "df_race = df_race[df_race.columns.drop(list(df_race.filter(regex='!!Total')))]"
   ]
  },
  {
   "cell_type": "code",
   "execution_count": 5,
   "id": "7bd164e6-8fa7-4431-8d63-97efd31dbb07",
   "metadata": {},
   "outputs": [],
   "source": [
    "df_occupancy = pd.read_csv(\"../../data/census_block_occupancy/DECENNIALPL2020.H1_data_with_overlays_2022-03-06T175643.csv\", low_memory=False, header=1)\n",
    "df_occupancy.columns = [colname.strip() for colname in list(df_occupancy.columns)]\n",
    "df_occupancy = df_occupancy.rename(\n",
    "    columns=\n",
    "    {\n",
    "        \"!!Total:!!Occupied\": \"occ_occupied\",\n",
    "        \"!!Total:!!Vacant\": \"occ_vacant\"\n",
    "    }\n",
    ")\n",
    "df_occupancy[\"id_sub\"] = df_occupancy.id.str.slice(9, 30)\n",
    "df_occupancy = df_occupancy.set_index(\"id_sub\")\n",
    "df_occupancy = df_occupancy[df_occupancy.columns.drop(list(df_occupancy.filter(regex='!!Total')))]"
   ]
  },
  {
   "cell_type": "code",
   "execution_count": 6,
   "id": "b927851c-8bd0-4e25-95e4-51806a7479fe",
   "metadata": {},
   "outputs": [],
   "source": [
    "df_institutionalization = pd.read_csv(\"../../data/census_block_institutionalization/DECENNIALPL2020.P5_data_with_overlays_2022-03-07T214522.csv\", low_memory=False, header=1)\n",
    "df_institutionalization.columns = [colname.strip() for colname in list(df_institutionalization.columns)]\n",
    "df_institutionalization = df_institutionalization.rename(\n",
    "    columns=\n",
    "    {\n",
    "        \"!!Total:!!Institutionalized population:!!Correctional facilities for adults\": \"inst_correctional_adults\",\n",
    "        \"!!Total:!!Institutionalized population:!!Juvenile facilities\": \"inst_juvenile\",\n",
    "        \"!!Total:!!Institutionalized population:!!Nursing facilities/Skilled-nursing facilities\": \"inst_nursing\",\n",
    "        \"!!Total:!!Institutionalized population:!!Other institutional facilities\": \"inst_other\"\n",
    "    }\n",
    ")\n",
    "df_institutionalization[\"id_sub\"] = df_institutionalization.id.str.slice(9, 30)\n",
    "df_institutionalization = df_institutionalization.set_index(\"id_sub\")\n",
    "df_institutionalization = df_institutionalization[df_institutionalization.columns.drop(list(df_institutionalization.filter(regex='!!Total')))]"
   ]
  },
  {
   "cell_type": "code",
   "execution_count": 7,
   "id": "d115e158-8a68-432b-93b3-3afc39d3c8fa",
   "metadata": {},
   "outputs": [],
   "source": [
    "df_joined = df_shapefile.join(df_race).join(df_occupancy, rsuffix=\"_occ\").join(df_institutionalization, rsuffix=\"_inst\").reset_index()"
   ]
  },
  {
   "cell_type": "code",
   "execution_count": 8,
   "id": "567d7692-c264-4827-a4d6-a71025869b1c",
   "metadata": {},
   "outputs": [],
   "source": [
    "columns_retained = [\"GEOID20\", \"INTPTLAT20\", \"INTPTLON20\", \"occ_occupied\", \"occ_vacant\", \"inst_correctional_adults\", \"inst_juvenile\",\n",
    "                   \"inst_nursing\", \"inst_other\", \"pop_white\", \"pop_black\", \"pop_indian_alaskan\",\n",
    "                    \"pop_asian\", \"pop_hawaiian_pacific\", \"pop_other\", \"pop_total\"]\n",
    "df_joined = df_joined[columns_retained]\n",
    "df_joined = df_joined.rename(\n",
    "    columns=\n",
    "    {\n",
    "        \"GEOID20\": \"geoid\",\n",
    "        \"INTPTLAT20\": \"lat\",\n",
    "        \"INTPTLON20\": \"lon\"\n",
    "    })"
   ]
  },
  {
   "cell_type": "code",
   "execution_count": 10,
   "id": "ce0918b1-c0d5-4697-916e-2d61ccccf466",
   "metadata": {},
   "outputs": [],
   "source": [
    "df_joined.to_csv(\"../../data/lat_lon_to_census_data.csv\", index=False)"
   ]
  },
  {
   "cell_type": "code",
   "execution_count": null,
   "id": "889c81fb-1d1d-4ea1-86f7-f71e0f0d9140",
   "metadata": {},
   "outputs": [],
   "source": []
  }
 ],
 "metadata": {
  "kernelspec": {
   "display_name": "Python 3 (ipykernel)",
   "language": "python",
   "name": "python3"
  },
  "language_info": {
   "codemirror_mode": {
    "name": "ipython",
    "version": 3
   },
   "file_extension": ".py",
   "mimetype": "text/x-python",
   "name": "python",
   "nbconvert_exporter": "python",
   "pygments_lexer": "ipython3",
   "version": "3.8.10"
  }
 },
 "nbformat": 4,
 "nbformat_minor": 5
}
