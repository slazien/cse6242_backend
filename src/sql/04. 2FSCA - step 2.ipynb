{
 "cells": [
  {
   "cell_type": "code",
   "execution_count": 1,
   "metadata": {},
   "outputs": [],
   "source": [
    "import psycopg2\n",
    "import configparser\n",
    "\n",
    "config = configparser.ConfigParser()\n",
    "config.read(\"../../config/config.ini\")    \n",
    "db_params = dict(config['DB'])\n",
    "from sqlalchemy import create_engine\n",
    "\n",
    "def execute_sql(SQL):\n",
    "    with psycopg2.connect(**db_params) as conn:\n",
    "        with conn.cursor() as cur:\n",
    "            cur.execute(SQL)        \n",
    "\n",
    "\n",
    "def get_alchemy_engine():\n",
    "    conn_string = 'postgresql://{user}:{password}@{host}:{port}/{dbname}'.format(**db_params)\n",
    "    return create_engine(conn_string, echo=False)"
   ]
  },
  {
   "cell_type": "markdown",
   "metadata": {},
   "source": [
    "## Step 2 calculations and population of accessibility stats"
   ]
  },
  {
   "cell_type": "markdown",
   "metadata": {},
   "source": [
    "Then, step 2."
   ]
  },
  {
   "cell_type": "code",
   "execution_count": 2,
   "metadata": {},
   "outputs": [],
   "source": [
    "create_sql = \"\"\"\n",
    "\n",
    "DROP TABLE IF EXISTS accessibility_stats;\n",
    "\n",
    "CREATE TABLE public.accessibility_stats\n",
    "(\n",
    "    id bigserial,\n",
    "    cityid bigint,    \n",
    "    categorytype text,    \n",
    "    poi_category varchar(50),\n",
    "    timeofday varchar(50),\n",
    "    h3id char(15),\n",
    "    accessibility float,\n",
    "    CONSTRAINT acc_stats_id PRIMARY KEY (id)\n",
    "    --- ,CONSTRAINT acc_stats_unique_key UNIQUE (cityid, categorytype, groupname, poi_category, timeofday, h3id)\n",
    ");\n",
    "\"\"\"\n",
    "\n",
    "execute_sql(create_sql)"
   ]
  },
  {
   "cell_type": "markdown",
   "metadata": {},
   "source": [
    "Then, populate step by step"
   ]
  },
  {
   "cell_type": "code",
   "execution_count": 3,
   "metadata": {},
   "outputs": [],
   "source": [
    "stats_sql = \"\"\"    \n",
    "\n",
    "    --- Data collection for step 2. We need to:\n",
    "         ---  Get all h3ids in a city and their associated population attributes\n",
    "         --- For each h3id, get the catchment IDs that cover those cells\n",
    "         --- Note that some cells may not have a single catchment area covering them\n",
    "         --- But we still need to make sure they are captured for statistics purposes\n",
    "\n",
    "    WITH h3_coverage as (\n",
    "            SELECT DISTINCT \n",
    "                    h3demographics.h3id,\n",
    "                    h3demographics.cityid,\n",
    "                    h3demographics.categorytype                                        \n",
    "            FROM h3demographics            \n",
    "         ),\n",
    "         step1 as (\n",
    "            SELECT  \n",
    "            step1_stats.h3id,           \n",
    "            step1_stats.timeofday,\n",
    "            step1_stats.categorytype,            \n",
    "            pois.category as poi_category,\n",
    "            SUM(step1_stats.ratio) as ratio -- if there are multiple POIs if the same type in h3, add their ratios\n",
    "            FROM step1_stats \n",
    "            JOIN catchments ON catchments.catchmentid = step1_stats.catchmentid\n",
    "            JOIN pois ON pois.h3id = catchments.originh3id\n",
    "\t\t\tGROUP BY\n",
    "\t\t\t\tstep1_stats.h3id,\n",
    "            \tstep1_stats.timeofday,\n",
    "            \tstep1_stats.categorytype,            \t\n",
    "            \tpoi_category\n",
    "         ),\n",
    "         stats as (\n",
    "            SELECT \n",
    "                h3_coverage.h3id,\n",
    "                h3_coverage.cityid,\n",
    "                h3_coverage.categorytype,                \n",
    "                step1.poi_category,\n",
    "                step1.timeofday,\n",
    "                SUM(step1.ratio) as accessibility\n",
    "            FROM h3_coverage\n",
    "            LEFT JOIN step1 ON h3_coverage.h3id = step1.h3id\n",
    "            WHERE \n",
    "                h3_coverage.categorytype = step1.categorytype                \n",
    "            GROUP BY h3_coverage.h3id,\n",
    "                h3_coverage.cityid,\n",
    "                h3_coverage.categorytype,                \n",
    "                step1.poi_category,\n",
    "                step1.timeofday)\n",
    "    INSERT\n",
    "    INTO accessibility_stats (h3id, cityid, categorytype, poi_category, timeofday, accessibility)\n",
    "    SELECT * FROM stats WHERE categorytype = %s AND poi_category = %s and timeofday = %s and cityid = %s\n",
    "    ;\n",
    "\"\"\""
   ]
  },
  {
   "cell_type": "code",
   "execution_count": 4,
   "metadata": {},
   "outputs": [
    {
     "name": "stderr",
     "output_type": "stream",
     "text": [
      " 35%|███▌      | 158/450 [42:33<3:47:15, 46.70s/it]"
     ]
    }
   ],
   "source": [
    "import itertools as itt\n",
    "from tqdm import tqdm\n",
    "\n",
    "with psycopg2.connect(**db_params) as conn:\n",
    "    with conn.cursor() as cur:\n",
    "        cur.execute('SELECT cityid FROM cities')\n",
    "        cityids = [d[0] for d in cur.fetchall()]\n",
    "        cur.execute('SELECT DISTINCT category FROM pois')\n",
    "        poi_categories = [d[0] for d in cur.fetchall()]\n",
    "        cur.execute('SELECT DISTINCT timeofday FROM catchments')\n",
    "        timesofday = [d[0] for d in cur.fetchall()]\n",
    "        cur.execute('SELECT DISTINCT categorytype FROM h3demographics')\n",
    "        categorytypes = [d[0] for d in cur.fetchall()]\n",
    "        combs = list(itt.product(cityids, poi_categories, timesofday, categorytypes))\n",
    "        for cityid, poi_category, timeofday, categorytype in tqdm(combs):\n",
    "            cur.execute(stats_sql, (\n",
    "                categorytype, poi_category, timeofday, cityid\n",
    "            ))\n",
    "            conn.commit()\n"
   ]
  },
  {
   "cell_type": "code",
   "execution_count": 53,
   "metadata": {},
   "outputs": [],
   "source": [
    "add_indexes = \"\"\"\n",
    "CREATE INDEX IF NOT EXISTS acc_stats_agg_index ON public.accessibility_stats (cityid, categorytype, poi_category, timeofday);\n",
    "CREATE INDEX IF NOT EXISTS acc_stats_h3index ON public.accessibility_stats (h3id);\n",
    "\"\"\"\n",
    "\n",
    "execute_sql(add_indexes)"
   ]
  },
  {
   "cell_type": "markdown",
   "metadata": {},
   "source": [
    "## Testing!"
   ]
  },
  {
   "cell_type": "code",
   "execution_count": null,
   "metadata": {},
   "outputs": [],
   "source": [
    "hex_id = '8944c1a8e23ffff'\n",
    "import numpy as np\n",
    "\n",
    "with psycopg2.connect(**db_params) as conn:\n",
    "    with conn.cursor() as cur:    \n",
    "        #first, find all catchment areas this hex is in\n",
    "        cur.execute(\"SELECT catchmentid FROM catchmenth3map WHERE h3id = %s\", (hex_id,))\n",
    "        catchments = [d[0] for d in cur.fetchall()]\n",
    "\n",
    "        #check if that agrees with step1\n",
    "        cur.execute(\"SELECT count(distinct catchmentid) FROM step1_stats WHERE h3id = %s\", (hex_id,))\n",
    "        count = cur.fetchone()[0]\n",
    "        assert count == len(catchments), \"The number of catchments stored in step1 table is not correct. Check!\"\n",
    "\n",
    "\n",
    "        #then, filter the list only catchments of Restaurants type\n",
    "        cur.execute(\n",
    "            \"\"\"SELECT catchmentid FROM pois JOIN catchments ON pois.h3id = catchments.originh3id WHERE \n",
    "            category = 'Restaurants' and timeofday = 'morning' AND catchmentid IN %s\"\"\", \n",
    "            (tuple(catchments),)\n",
    "        )\n",
    "        restaurant_catchments = [d[0] for d in cur.fetchall()]        \n",
    "        print(\"Number of unique catchments: {}\".format(len(set(restaurant_catchments))))        \n",
    "        print(\"Number of restaurants: {}\".format(len(restaurant_catchments)))\n",
    "        \n",
    "        populations = []\n",
    "        c_dict = {}\n",
    "        for cid in restaurant_catchments:\n",
    "            #for each catchment, get total population\n",
    "            cur.execute(\"\"\"SELECT SUM(population) FROM h3demographics h\n",
    "            JOIN catchmenth3map c ON h.h3id = c.h3id \n",
    "            WHERE categorytype = 'Race' AND catchmentid = %s\"\"\", (cid, ))\n",
    "            pop = cur.fetchone()[0]\n",
    "            populations.append(pop)\n",
    "            c_dict[cid] = pop\n",
    "\n",
    "        #check if total value stored in step1 is the same (on catchment basis)\n",
    "        step1s = np.array(list(c_dict.values()))\n",
    "        total_step1 = (10_000 / step1s).sum()\n",
    "        print(\"Total step1 value: {}\".format(total_step1))\n",
    "        cur.execute(\n",
    "            \"\"\"SELECT SUM(ratio) FROM step1_stats WHERE h3id = %s AND catchmentid IN %s AND categorytype = 'Race' \"\"\", \n",
    "            (hex_id, tuple(set(restaurant_catchments)))\n",
    "        )\n",
    "        total_step1_in_db = cur.fetchone()[0]\n",
    "        print(\"Total step1 value in database: {}\".format(total_step1_in_db))\n",
    "        assert np.isclose(total_step1 - total_step1_in_db, 0), \"Total step 1 value is not the same!\"\n",
    "\n",
    "        total_access = (10_000 / np.array(populations)).sum()\n",
    "        print(\"Total accessibility in hex id: {}\".format(total_access))\n",
    "        cur.execute(\n",
    "            \"\"\"SELECT accessibility FROM accessibility_stats WHERE h3id = %s AND poi_category='Restaurants' \n",
    "            AND categorytype = 'Race' and timeofday = 'morning' \"\"\",\n",
    "            (hex_id,)\n",
    "        )\n",
    "        total_access_in_db = cur.fetchone()[0]\n",
    "        print(\"Total accessibility in database: {}\".format(total_access_in_db))\n",
    "        assert np.isclose(total_access - total_access_in_db, 0), \"Total accessibility is not the same!\"\n"
   ]
  }
 ],
 "metadata": {
  "interpreter": {
   "hash": "bf0d96ebd2a5dd04824f7e10db890ae617139d6f917167f42fcdcc1217b9ad8b"
  },
  "kernelspec": {
   "display_name": "Python 3.9.7 ('cse6242project')",
   "language": "python",
   "name": "python3"
  },
  "language_info": {
   "codemirror_mode": {
    "name": "ipython",
    "version": 3
   },
   "file_extension": ".py",
   "mimetype": "text/x-python",
   "name": "python",
   "nbconvert_exporter": "python",
   "pygments_lexer": "ipython3",
   "version": "3.9.7"
  },
  "orig_nbformat": 4
 },
 "nbformat": 4,
 "nbformat_minor": 2
}
