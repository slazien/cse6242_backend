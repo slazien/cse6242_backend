{
 "cells": [
  {
   "cell_type": "markdown",
   "metadata": {},
   "source": [
    "# SQL function creation\n",
    "\n",
    "This notebook stores the code that creates the SQL functions that are then used by the API code. Needs to be run only once (and re-run if any updates of course!).\n",
    "\n",
    "**Important**:In order to keep the list clean, please prefix any new functions with `api_`"
   ]
  },
  {
   "cell_type": "code",
   "execution_count": 2,
   "metadata": {},
   "outputs": [],
   "source": [
    "import psycopg2\n",
    "import configparser\n",
    "\n",
    "config = configparser.ConfigParser()\n",
    "config.read(\"../../config/config.ini\")    \n",
    "db_params = dict(config['DB'])\n",
    "from sqlalchemy import create_engine\n",
    "\n",
    "def execute_sql(SQL):\n",
    "        with psycopg2.connect(**db_params) as conn:\n",
    "            with conn.cursor() as cur:\n",
    "                cur.execute(SQL)        \n",
    "\n",
    "\n",
    "def get_alchemy_engine():\n",
    "    conn_string = 'postgresql://{user}:{password}@{host}:{port}/{dbname}'.format(**db_params)\n",
    "    return create_engine(conn_string, echo=False)"
   ]
  },
  {
   "cell_type": "markdown",
   "metadata": {},
   "source": [
    "### Getting catchment area statistics for a given catchment area (by ID)\n",
    "We'll use precomputed tables, too, as it makes it faster to get accessibility statistics afterwards."
   ]
  },
  {
   "cell_type": "code",
   "execution_count": 3,
   "metadata": {},
   "outputs": [],
   "source": [
    "create_sql = \"\"\"\n",
    "\n",
    "DROP TABLE IF EXISTS catchment_stats;\n",
    "\n",
    "CREATE TABLE public.catchment_stats\n",
    "(\n",
    "    catchmentid bigint,    \n",
    "    categorytype text,\n",
    "    groupname text,    \n",
    "    population double precision,\n",
    "    id bigserial,\n",
    "    CONSTRAINT catchment_stats_id PRIMARY KEY (id),\n",
    "    CONSTRAINT catchment_stats_unique_key UNIQUE (catchmentid, categorytype, groupname)\n",
    ");\n",
    "\n",
    "CREATE INDEX IF NOT EXISTS catchment_stats_index ON public.catchment_stats (catchmentid, categorytype);\n",
    "\"\"\"\n",
    "\n",
    "execute_sql(create_sql)"
   ]
  },
  {
   "cell_type": "markdown",
   "metadata": {},
   "source": [
    "Populating the table"
   ]
  },
  {
   "cell_type": "code",
   "execution_count": null,
   "metadata": {},
   "outputs": [],
   "source": [
    "SQL = \"\"\"\n",
    "WITH all_h3_ids as (\n",
    "\tSELECT \t\t\n",
    "\t\th3demographics.categorytype,\n",
    "\t\th3demographics.h3id, \n",
    "\t\th3demographics.groupname, \n",
    "\t\th3demographics.population \n",
    "\tFROM h3demographics\n",
    "),\n",
    "\n",
    "catchmenth3_ids AS (\n",
    "\tSELECT \n",
    "\t\tcatchments.catchmentid,\n",
    "\t\tcatchmenth3map.h3id\n",
    "\tFROM catchments\n",
    "\tJOIN catchmenth3map ON catchmenth3map.catchmentid = catchments.catchmentid\n",
    ")\n",
    "\n",
    "INSERT INTO catchment_stats (catchmentid, categorytype, groupname, population)\n",
    "\tSELECT c.catchmentid, h.categorytype, h.groupname, SUM(h.population)\n",
    "\t\tFROM all_h3_ids as h\n",
    "\t\tJOIN catchmenth3_ids as c ON c.h3id = h.h3id\n",
    "\t\tGROUP BY c.catchmentid, h.categorytype, h.groupname\n",
    "\"\"\"\n",
    "\n",
    "execute_sql(SQL)"
   ]
  },
  {
   "cell_type": "markdown",
   "metadata": {},
   "source": [
    "Defining the function"
   ]
  },
  {
   "cell_type": "code",
   "execution_count": 6,
   "metadata": {},
   "outputs": [],
   "source": [
    "SQL = \"\"\"\n",
    "-- Demographics for a catchment area\n",
    "\n",
    "CREATE OR REPLACE FUNCTION api_get_demographics_for_catchment(    \n",
    "    in_categorytype character,\n",
    "    in_catchment_id integer\n",
    ")\n",
    "    RETURNS TABLE\n",
    "            (                \n",
    "                groupname   text,\n",
    "                population   float\n",
    "            )\n",
    "    LANGUAGE plpgsql\n",
    "AS\n",
    "$demographicsforarea$\n",
    "BEGIN\n",
    "    \n",
    "    RETURN QUERY\n",
    "        \n",
    "        SELECT catchment_stats.groupname, catchment_stats.population \n",
    "            FROM catchment_stats\n",
    "            WHERE categorytype = in_categorytype AND catchmentid = in_catchment_id;\n",
    "\n",
    "END;\n",
    "$demographicsforarea$;\n",
    "\n",
    "-- SELECT * FROM api_get_demographics_for_catchment('Race', 1); \n",
    "\"\"\"\n",
    "\n",
    "execute_sql(SQL)"
   ]
  }
 ],
 "metadata": {
  "interpreter": {
   "hash": "bf0d96ebd2a5dd04824f7e10db890ae617139d6f917167f42fcdcc1217b9ad8b"
  },
  "kernelspec": {
   "display_name": "cse6242project",
   "language": "python",
   "name": "cse6242project"
  },
  "language_info": {
   "codemirror_mode": {
    "name": "ipython",
    "version": 3
   },
   "file_extension": ".py",
   "mimetype": "text/x-python",
   "name": "python",
   "nbconvert_exporter": "python",
   "pygments_lexer": "ipython3",
   "version": "3.9.7"
  }
 },
 "nbformat": 4,
 "nbformat_minor": 4
}
