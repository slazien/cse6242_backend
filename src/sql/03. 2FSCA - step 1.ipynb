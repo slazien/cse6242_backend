{
 "cells": [
  {
   "cell_type": "code",
   "execution_count": 1,
   "metadata": {},
   "outputs": [],
   "source": [
    "import psycopg2\n",
    "import configparser\n",
    "\n",
    "config = configparser.ConfigParser()\n",
    "config.read(\"../../config/config.ini\")    \n",
    "db_params = dict(config['DB'])\n",
    "from sqlalchemy import create_engine\n",
    "\n",
    "def execute_sql(SQL):\n",
    "    with psycopg2.connect(**db_params) as conn:\n",
    "        with conn.cursor() as cur:\n",
    "            cur.execute(SQL)        \n",
    "\n",
    "\n",
    "def get_alchemy_engine():\n",
    "    conn_string = 'postgresql://{user}:{password}@{host}:{port}/{dbname}'.format(**db_params)\n",
    "    return create_engine(conn_string, echo=False)"
   ]
  },
  {
   "cell_type": "markdown",
   "metadata": {},
   "source": [
    "# Calculating accessibility statistics based on 2FSCA method\n",
    "First, we create the table"
   ]
  },
  {
   "cell_type": "markdown",
   "metadata": {},
   "source": [
    "## Step 1 table and calculations"
   ]
  },
  {
   "cell_type": "code",
   "execution_count": 15,
   "metadata": {},
   "outputs": [],
   "source": [
    "SQL = \"\"\"\n",
    "\n",
    "DROP TABLE IF EXISTS step1_stats;\n",
    "\n",
    "CREATE TABLE IF NOT EXISTS step1_stats (\n",
    "    --- There is no need to store POI category in step1 statistics\n",
    "    --- Any POI with the same originH3 will have the same step 1 value!\n",
    "    --- If we were to store it, we can't easily reuse step1 values for adding new POIs of a new type in H3id\n",
    "\t--- The same applies for groupname - we only need to store TOTAL population per catchment at this stage\n",
    "    --- We keep categorytype as some populations == people and some == households\n",
    "\ttimeofday varchar(50),\n",
    "\tcategorytype text,\t\n",
    "\tcatchmentid bigint,\n",
    "    h3id character(15),\n",
    "\tratio float\n",
    ");\n",
    "\n",
    "WITH step1 AS (\n",
    "         SELECT \n",
    "                c3m.h3id,                \n",
    "                catchments.timeofday,\n",
    "                catchments.catchmentid,\n",
    "                catchment_stats.categorytype,\t\t \n",
    "\t\t\t\tCASE \n",
    "            \t\tWHEN SUM(catchment_stats.population) = 0\n",
    "            \t\tTHEN 0 \n",
    "            \t\tELSE 10000 / SUM(catchment_stats.population) \n",
    "            \t\tEND AS ratio\n",
    "         FROM catchments\n",
    "\t\t JOIN catchment_stats\n",
    "         \tON catchment_stats.catchmentid = catchments.catchmentid                \n",
    "         JOIN catchmenth3map c3m \n",
    "\t\t \tON catchment_stats.catchmentid = c3m.catchmentid\n",
    "\t\t GROUP BY \n",
    "\t\t \tc3m.h3id,                \n",
    "            catchments.timeofday,\n",
    "            catchments.catchmentid,\n",
    "            catchment_stats.categorytype\n",
    "     )\n",
    "\t \n",
    "\t INSERT INTO step1_stats \n",
    "\t (h3id,\t\t\n",
    "\t\t\ttimeofday,\n",
    "\t\t\tcategorytype,\t\t\t\n",
    "\t\t\tcatchmentid,\n",
    "\t\t\tratio\n",
    "\t )\n",
    "\t \tSELECT \n",
    "            h3id,\t\t\n",
    "\t\t\ttimeofday,\n",
    "\t\t\tcategorytype,\t\t\t\n",
    "\t\t\tcatchmentid,\n",
    "\t\t\tratio\n",
    "\t\t FROM step1;\n",
    "\n",
    "CREATE INDEX IF NOT EXISTS step1_stats_agg_index ON public.step1_stats (\n",
    "    catchmentid, categorytype, timeofday\n",
    ");\n",
    "CREATE INDEX IF NOT EXISTS step1_stats_cid ON public.step1_stats (catchmentid);\n",
    "CREATE INDEX IF NOT EXISTS step1_stats_h3id ON public.step1_stats (h3id);\n",
    "\n",
    "\"\"\"\n",
    "\n",
    "execute_sql(SQL)"
   ]
  }
 ],
 "metadata": {
  "interpreter": {
   "hash": "bf0d96ebd2a5dd04824f7e10db890ae617139d6f917167f42fcdcc1217b9ad8b"
  },
  "kernelspec": {
   "display_name": "Python 3.9.7 ('cse6242project')",
   "language": "python",
   "name": "python3"
  },
  "language_info": {
   "codemirror_mode": {
    "name": "ipython",
    "version": 3
   },
   "file_extension": ".py",
   "mimetype": "text/x-python",
   "name": "python",
   "nbconvert_exporter": "python",
   "pygments_lexer": "ipython3",
   "version": "3.9.7"
  },
  "orig_nbformat": 4
 },
 "nbformat": 4,
 "nbformat_minor": 2
}
