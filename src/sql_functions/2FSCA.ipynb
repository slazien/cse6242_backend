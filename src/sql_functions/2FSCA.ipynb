{
 "cells": [
  {
   "cell_type": "code",
   "execution_count": 1,
   "metadata": {},
   "outputs": [],
   "source": [
    "import psycopg2\n",
    "import configparser\n",
    "\n",
    "config = configparser.ConfigParser()\n",
    "config.read(\"../../config.ini\")    \n",
    "db_params = dict(config['DB'])\n",
    "from sqlalchemy import create_engine\n",
    "\n",
    "def execute_sql(SQL):\n",
    "    with psycopg2.connect(**db_params) as conn:\n",
    "        with conn.cursor() as cur:\n",
    "            cur.execute(SQL)        \n",
    "\n",
    "\n",
    "def get_alchemy_engine():\n",
    "    conn_string = 'postgresql://{user}:{password}@{host}:{port}/{dbname}'.format(**db_params)\n",
    "    return create_engine(conn_string, echo=False)"
   ]
  },
  {
   "cell_type": "markdown",
   "metadata": {},
   "source": [
    "# Calculating accessibility statistics based on 2FSCA method\n",
    "First, we create the table"
   ]
  },
  {
   "cell_type": "markdown",
   "metadata": {},
   "source": [
    "## Step 1 table and calculations"
   ]
  },
  {
   "cell_type": "code",
   "execution_count": 15,
   "metadata": {},
   "outputs": [],
   "source": [
    "SQL = \"\"\"\n",
    "\n",
    "DROP TABLE IF EXISTS step1_stats;\n",
    "\n",
    "CREATE TABLE IF NOT EXISTS step1_stats (\n",
    "    --- There is no need to store POI category in step1 statistics\n",
    "    --- Any POI with the same originH3 will have the same step 1 value!\n",
    "    --- If we were to store it, we can't easily reuse step1 values for adding new POIs of a new type in H3id\n",
    "\t--- The same applies for groupname - we only need to store TOTAL population per catchment at this stage\n",
    "    --- We keep categorytype as some populations == people and some == households\n",
    "\ttimeofday varchar(50),\n",
    "\tcategorytype text,\t\n",
    "\tcatchmentid bigint,\n",
    "    h3id character(15),\n",
    "\tratio float\n",
    ");\n",
    "\n",
    "WITH step1 AS (\n",
    "         SELECT \n",
    "                c3m.h3id,                \n",
    "                catchments.timeofday,\n",
    "                catchments.catchmentid,\n",
    "                catchment_stats.categorytype,\t\t \n",
    "\t\t\t\tCASE \n",
    "            \t\tWHEN SUM(catchment_stats.population) = 0\n",
    "            \t\tTHEN 0 \n",
    "            \t\tELSE 10000 / SUM(catchment_stats.population) \n",
    "            \t\tEND AS ratio\n",
    "         FROM catchments\n",
    "\t\t JOIN catchment_stats\n",
    "         \tON catchment_stats.catchmentid = catchments.catchmentid                \n",
    "         JOIN catchmenth3map c3m \n",
    "\t\t \tON catchment_stats.catchmentid = c3m.catchmentid\n",
    "\t\t GROUP BY \n",
    "\t\t \tc3m.h3id,                \n",
    "            catchments.timeofday,\n",
    "            catchments.catchmentid,\n",
    "            catchment_stats.categorytype\n",
    "     )\n",
    "\t \n",
    "\t INSERT INTO step1_stats \n",
    "\t (h3id,\t\t\n",
    "\t\t\ttimeofday,\n",
    "\t\t\tcategorytype,\t\t\t\n",
    "\t\t\tcatchmentid,\n",
    "\t\t\tratio\n",
    "\t )\n",
    "\t \tSELECT \n",
    "            h3id,\t\t\n",
    "\t\t\ttimeofday,\n",
    "\t\t\tcategorytype,\t\t\t\n",
    "\t\t\tcatchmentid,\n",
    "\t\t\tratio\n",
    "\t\t FROM step1;\n",
    "\n",
    "CREATE INDEX IF NOT EXISTS step1_stats_agg_index ON public.step1_stats (\n",
    "    catchmentid, categorytype, timeofday\n",
    ");\n",
    "CREATE INDEX IF NOT EXISTS step1_stats_cid ON public.step1_stats (catchmentid);\n",
    "CREATE INDEX IF NOT EXISTS step1_stats_h3id ON public.step1_stats (h3id);\n",
    "\n",
    "\"\"\"\n",
    "\n",
    "execute_sql(SQL)"
   ]
  },
  {
   "cell_type": "markdown",
   "metadata": {},
   "source": [
    "## Step 2 calculations and population of accessibility stats"
   ]
  },
  {
   "cell_type": "markdown",
   "metadata": {},
   "source": [
    "Then, step 2."
   ]
  },
  {
   "cell_type": "code",
   "execution_count": 2,
   "metadata": {},
   "outputs": [],
   "source": [
    "create_sql = \"\"\"\n",
    "\n",
    "DROP TABLE IF EXISTS accessibility_stats;\n",
    "\n",
    "CREATE TABLE public.accessibility_stats\n",
    "(\n",
    "    id bigserial,\n",
    "    cityid bigint,    \n",
    "    categorytype text,    \n",
    "    poi_category varchar(50),\n",
    "    timeofday varchar(50),\n",
    "    h3id char(15),\n",
    "    accessibility float,\n",
    "    CONSTRAINT acc_stats_id PRIMARY KEY (id)\n",
    "    --- ,CONSTRAINT acc_stats_unique_key UNIQUE (cityid, categorytype, groupname, poi_category, timeofday, h3id)\n",
    ");\n",
    "\"\"\"\n",
    "\n",
    "execute_sql(create_sql)"
   ]
  },
  {
   "cell_type": "markdown",
   "metadata": {},
   "source": [
    "Then, populate step by step"
   ]
  },
  {
   "cell_type": "code",
   "execution_count": 3,
   "metadata": {},
   "outputs": [],
   "source": [
    "stats_sql = \"\"\"    \n",
    "\n",
    "    --- Data collection for step 2. We need to:\n",
    "         ---  Get all h3ids in a city and their associated population attributes\n",
    "         --- For each h3id, get the catchment IDs that cover those cells\n",
    "         --- Note that some cells may not have a single catchment area covering them\n",
    "         --- But we still need to make sure they are captured for statistics purposes\n",
    "\n",
    "    WITH h3_coverage as (\n",
    "            SELECT DISTINCT \n",
    "                    h3demographics.h3id,\n",
    "                    h3demographics.cityid,\n",
    "                    h3demographics.categorytype                                        \n",
    "            FROM h3demographics            \n",
    "         ),\n",
    "         step1 as (\n",
    "            SELECT  \n",
    "            step1_stats.h3id,           \n",
    "            step1_stats.timeofday,\n",
    "            step1_stats.categorytype,            \n",
    "            pois.category as poi_category,\n",
    "            SUM(step1_stats.ratio) as ratio -- if there are multiple POIs if the same type in h3, add their ratios\n",
    "            FROM step1_stats \n",
    "            JOIN catchments ON catchments.catchmentid = step1_stats.catchmentid\n",
    "            JOIN pois ON pois.h3id = catchments.originh3id\n",
    "\t\t\tGROUP BY\n",
    "\t\t\t\tstep1_stats.h3id,\n",
    "            \tstep1_stats.timeofday,\n",
    "            \tstep1_stats.categorytype,            \t\n",
    "            \tpoi_category\n",
    "         ),\n",
    "         stats as (\n",
    "            SELECT \n",
    "                h3_coverage.h3id,\n",
    "                h3_coverage.cityid,\n",
    "                h3_coverage.categorytype,                \n",
    "                step1.poi_category,\n",
    "                step1.timeofday,\n",
    "                SUM(step1.ratio) as accessibility\n",
    "            FROM h3_coverage\n",
    "            LEFT JOIN step1 ON h3_coverage.h3id = step1.h3id\n",
    "            WHERE \n",
    "                h3_coverage.categorytype = step1.categorytype                \n",
    "            GROUP BY h3_coverage.h3id,\n",
    "                h3_coverage.cityid,\n",
    "                h3_coverage.categorytype,                \n",
    "                step1.poi_category,\n",
    "                step1.timeofday)\n",
    "    INSERT\n",
    "    INTO accessibility_stats (h3id, cityid, categorytype, poi_category, timeofday, accessibility)\n",
    "    SELECT * FROM stats WHERE categorytype = %s AND poi_category = %s and timeofday = %s and cityid = %s\n",
    "    ;\n",
    "\"\"\""
   ]
  },
  {
   "cell_type": "code",
   "execution_count": 4,
   "metadata": {},
   "outputs": [
    {
     "name": "stderr",
     "output_type": "stream",
     "text": [
      " 35%|███▌      | 158/450 [42:33<3:47:15, 46.70s/it]"
     ]
    }
   ],
   "source": [
    "import itertools as itt\n",
    "from tqdm import tqdm\n",
    "\n",
    "with psycopg2.connect(**db_params) as conn:\n",
    "    with conn.cursor() as cur:\n",
    "        cur.execute('SELECT cityid FROM cities')\n",
    "        cityids = [d[0] for d in cur.fetchall()]\n",
    "        cur.execute('SELECT DISTINCT category FROM pois')\n",
    "        poi_categories = [d[0] for d in cur.fetchall()]\n",
    "        cur.execute('SELECT DISTINCT timeofday FROM catchments')\n",
    "        timesofday = [d[0] for d in cur.fetchall()]\n",
    "        cur.execute('SELECT DISTINCT categorytype FROM h3demographics')\n",
    "        categorytypes = [d[0] for d in cur.fetchall()]\n",
    "        combs = list(itt.product(cityids, poi_categories, timesofday, categorytypes))\n",
    "        for cityid, poi_category, timeofday, categorytype in tqdm(combs):\n",
    "            cur.execute(stats_sql, (\n",
    "                categorytype, poi_category, timeofday, cityid\n",
    "            ))\n",
    "            conn.commit()\n"
   ]
  },
  {
   "cell_type": "code",
   "execution_count": 53,
   "metadata": {},
   "outputs": [],
   "source": [
    "add_indexes = \"\"\"\n",
    "CREATE INDEX IF NOT EXISTS acc_stats_agg_index ON public.accessibility_stats (cityid, categorytype, poi_category, timeofday);\n",
    "CREATE INDEX IF NOT EXISTS acc_stats_h3index ON public.accessibility_stats (h3id);\n",
    "\"\"\"\n",
    "\n",
    "execute_sql(add_indexes)"
   ]
  },
  {
   "cell_type": "markdown",
   "metadata": {},
   "source": [
    "## Testing!"
   ]
  },
  {
   "cell_type": "code",
   "execution_count": 2,
   "metadata": {},
   "outputs": [
    {
     "ename": "AssertionError",
     "evalue": "The number of catchments stored in step1 table is not correct. Check!",
     "output_type": "error",
     "traceback": [
      "\u001b[0;31m---------------------------------------------------------------------------\u001b[0m",
      "\u001b[0;31mAssertionError\u001b[0m                            Traceback (most recent call last)",
      "\u001b[1;32m/home/aurimas/GT-courses/CSE-6242-DVA/project/src/sql_functions/2FSCA.ipynb Cell 13'\u001b[0m in \u001b[0;36m<cell line: 4>\u001b[0;34m()\u001b[0m\n\u001b[1;32m     <a href='vscode-notebook-cell://wsl%2Bubuntu/home/aurimas/GT-courses/CSE-6242-DVA/project/src/sql_functions/2FSCA.ipynb#ch0000012vscode-remote?line=10'>11</a>\u001b[0m cur\u001b[39m.\u001b[39mexecute(\u001b[39m\"\u001b[39m\u001b[39mSELECT count(distinct catchmentid) FROM step1_stats WHERE h3id = \u001b[39m\u001b[39m%s\u001b[39;00m\u001b[39m\"\u001b[39m, (hex_id,))\n\u001b[1;32m     <a href='vscode-notebook-cell://wsl%2Bubuntu/home/aurimas/GT-courses/CSE-6242-DVA/project/src/sql_functions/2FSCA.ipynb#ch0000012vscode-remote?line=11'>12</a>\u001b[0m count \u001b[39m=\u001b[39m cur\u001b[39m.\u001b[39mfetchone()[\u001b[39m0\u001b[39m]\n\u001b[0;32m---> <a href='vscode-notebook-cell://wsl%2Bubuntu/home/aurimas/GT-courses/CSE-6242-DVA/project/src/sql_functions/2FSCA.ipynb#ch0000012vscode-remote?line=12'>13</a>\u001b[0m \u001b[39massert\u001b[39;00m count \u001b[39m==\u001b[39m \u001b[39mlen\u001b[39m(catchments), \u001b[39m\"\u001b[39m\u001b[39mThe number of catchments stored in step1 table is not correct. Check!\u001b[39m\u001b[39m\"\u001b[39m\n\u001b[1;32m     <a href='vscode-notebook-cell://wsl%2Bubuntu/home/aurimas/GT-courses/CSE-6242-DVA/project/src/sql_functions/2FSCA.ipynb#ch0000012vscode-remote?line=15'>16</a>\u001b[0m \u001b[39m#then, filter the list only catchments of Restaurants type\u001b[39;00m\n\u001b[1;32m     <a href='vscode-notebook-cell://wsl%2Bubuntu/home/aurimas/GT-courses/CSE-6242-DVA/project/src/sql_functions/2FSCA.ipynb#ch0000012vscode-remote?line=16'>17</a>\u001b[0m cur\u001b[39m.\u001b[39mexecute(\n\u001b[1;32m     <a href='vscode-notebook-cell://wsl%2Bubuntu/home/aurimas/GT-courses/CSE-6242-DVA/project/src/sql_functions/2FSCA.ipynb#ch0000012vscode-remote?line=17'>18</a>\u001b[0m     \u001b[39m\"\"\"SELECT catchmentid FROM pois JOIN catchments ON pois.h3id = catchments.originh3id WHERE \u001b[39;00m\n\u001b[1;32m     <a href='vscode-notebook-cell://wsl%2Bubuntu/home/aurimas/GT-courses/CSE-6242-DVA/project/src/sql_functions/2FSCA.ipynb#ch0000012vscode-remote?line=18'>19</a>\u001b[0m \u001b[39m    category = 'Restaurants' and timeofday = 'morning' AND catchmentid IN %s\"\"\"\u001b[39;00m, \n\u001b[1;32m     <a href='vscode-notebook-cell://wsl%2Bubuntu/home/aurimas/GT-courses/CSE-6242-DVA/project/src/sql_functions/2FSCA.ipynb#ch0000012vscode-remote?line=19'>20</a>\u001b[0m     (\u001b[39mtuple\u001b[39m(catchments),)\n\u001b[1;32m     <a href='vscode-notebook-cell://wsl%2Bubuntu/home/aurimas/GT-courses/CSE-6242-DVA/project/src/sql_functions/2FSCA.ipynb#ch0000012vscode-remote?line=20'>21</a>\u001b[0m )\n",
      "\u001b[0;31mAssertionError\u001b[0m: The number of catchments stored in step1 table is not correct. Check!"
     ]
    }
   ],
   "source": [
    "hex_id = '8944c1a8e23ffff'\n",
    "import numpy as np\n",
    "\n",
    "with psycopg2.connect(**db_params) as conn:\n",
    "    with conn.cursor() as cur:    \n",
    "        #first, find all catchment areas this hex is in\n",
    "        cur.execute(\"SELECT catchmentid FROM catchmenth3map WHERE h3id = %s\", (hex_id,))\n",
    "        catchments = [d[0] for d in cur.fetchall()]\n",
    "\n",
    "        #check if that agrees with step1\n",
    "        cur.execute(\"SELECT count(distinct catchmentid) FROM step1_stats WHERE h3id = %s\", (hex_id,))\n",
    "        count = cur.fetchone()[0]\n",
    "        assert count == len(catchments), \"The number of catchments stored in step1 table is not correct. Check!\"\n",
    "\n",
    "\n",
    "        #then, filter the list only catchments of Restaurants type\n",
    "        cur.execute(\n",
    "            \"\"\"SELECT catchmentid FROM pois JOIN catchments ON pois.h3id = catchments.originh3id WHERE \n",
    "            category = 'Restaurants' and timeofday = 'morning' AND catchmentid IN %s\"\"\", \n",
    "            (tuple(catchments),)\n",
    "        )\n",
    "        restaurant_catchments = [d[0] for d in cur.fetchall()]        \n",
    "        print(\"Number of unique catchments: {}\".format(len(set(restaurant_catchments))))        \n",
    "        print(\"Number of restaurants: {}\".format(len(restaurant_catchments)))\n",
    "        \n",
    "        populations = []\n",
    "        c_dict = {}\n",
    "        for cid in restaurant_catchments:\n",
    "            #for each catchment, get total population\n",
    "            cur.execute(\"\"\"SELECT SUM(population) FROM h3demographics h\n",
    "            JOIN catchmenth3map c ON h.h3id = c.h3id \n",
    "            WHERE categorytype = 'Race' AND catchmentid = %s\"\"\", (cid, ))\n",
    "            pop = cur.fetchone()[0]\n",
    "            populations.append(pop)\n",
    "            c_dict[cid] = pop\n",
    "\n",
    "        #check if total value stored in step1 is the same (on catchment basis)\n",
    "        step1s = np.array(list(c_dict.values()))\n",
    "        total_step1 = (10_000 / step1s).sum()\n",
    "        print(\"Total step1 value: {}\".format(total_step1))\n",
    "        cur.execute(\n",
    "            \"\"\"SELECT SUM(ratio) FROM step1_stats WHERE h3id = %s AND catchmentid IN %s AND categorytype = 'Race' \"\"\", \n",
    "            (hex_id, tuple(set(restaurant_catchments)))\n",
    "        )\n",
    "        total_step1_in_db = cur.fetchone()[0]\n",
    "        print(\"Total step1 value in database: {}\".format(total_step1_in_db))\n",
    "        assert np.isclose(total_step1 - total_step1_in_db, 0), \"Total step 1 value is not the same!\"\n",
    "\n",
    "        total_access = (10_000 / np.array(populations)).sum()\n",
    "        print(\"Total accessibility in hex id: {}\".format(total_access))\n",
    "        cur.execute(\n",
    "            \"\"\"SELECT accessibility FROM accessibility_stats WHERE h3id = %s AND poi_category='Restaurants' \n",
    "            AND categorytype = 'Race' and timeofday = 'morning' \"\"\",\n",
    "            (hex_id,)\n",
    "        )\n",
    "        total_access_in_db = cur.fetchone()[0]\n",
    "        print(\"Total accessibility in database: {}\".format(total_access_in_db))\n",
    "        assert np.isclose(total_access - total_access_in_db, 0), \"Total accessibility is not the same!\"\n"
   ]
  },
  {
   "cell_type": "code",
   "execution_count": null,
   "metadata": {},
   "outputs": [],
   "source": []
  }
 ],
 "metadata": {
  "interpreter": {
   "hash": "bf0d96ebd2a5dd04824f7e10db890ae617139d6f917167f42fcdcc1217b9ad8b"
  },
  "kernelspec": {
   "display_name": "Python 3.9.7 ('cse6242project')",
   "language": "python",
   "name": "python3"
  },
  "language_info": {
   "codemirror_mode": {
    "name": "ipython",
    "version": 3
   },
   "file_extension": ".py",
   "mimetype": "text/x-python",
   "name": "python",
   "nbconvert_exporter": "python",
   "pygments_lexer": "ipython3",
   "version": "3.9.7"
  },
  "orig_nbformat": 4
 },
 "nbformat": 4,
 "nbformat_minor": 2
}
