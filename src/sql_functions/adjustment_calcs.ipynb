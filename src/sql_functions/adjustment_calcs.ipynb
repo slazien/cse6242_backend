{
 "cells": [
  {
   "cell_type": "markdown",
   "metadata": {},
   "source": [
    "## Adjusting accessibility statistics"
   ]
  },
  {
   "cell_type": "code",
   "execution_count": 3,
   "metadata": {},
   "outputs": [],
   "source": [
    "import psycopg2\n",
    "import configparser\n",
    "import pandas as pd\n",
    "import numpy as np\n",
    "\n",
    "config = configparser.ConfigParser()\n",
    "config.read(\"../../config.ini\")    \n",
    "db_params = dict(config['DB'])\n",
    "from sqlalchemy import create_engine\n",
    "\n",
    "def execute_sql(SQL):\n",
    "        with psycopg2.connect(**db_params) as conn:\n",
    "            with conn.cursor() as cur:\n",
    "                cur.execute(SQL)        \n",
    "\n",
    "\n",
    "def get_alchemy_engine():\n",
    "    conn_string = 'postgresql://{user}:{password}@{host}:{port}/{dbname}'.format(**db_params)\n",
    "    return create_engine(conn_string, echo=False)"
   ]
  },
  {
   "cell_type": "markdown",
   "metadata": {},
   "source": [
    "### Creating the function that calculates the adjustment required"
   ]
  },
  {
   "cell_type": "code",
   "execution_count": 6,
   "metadata": {},
   "outputs": [],
   "source": [
    "SQL = \"\"\"\n",
    "DROP FUNCTION api_add_remove_catchments;\n",
    "\n",
    "CREATE OR REPLACE FUNCTION api_add_remove_catchments(\n",
    "    in_remove_hex_ids character[],\n",
    "    in_add_hex_ids character[],\t\t\n",
    "\tin_timeofday varchar,\n",
    "\tin_categorytype text,\n",
    "    in_poi_category varchar\n",
    ")\n",
    "    RETURNS TABLE\n",
    "            (\n",
    "                h3id         character,                                \n",
    "                adjustment        float\n",
    "            )\n",
    "    LANGUAGE plpgsql\n",
    "AS\n",
    "$addremovecatchments$\n",
    "BEGIN\n",
    "    RETURN QUERY\n",
    "\t\t--- Find all distinct catchment IDs where POIs are to be removed\n",
    "        WITH \n",
    "            to_remove AS (\n",
    "                select DISTINCT id FROM unnest(in_remove_hex_ids) m(id)\n",
    "            ),\n",
    "        remove_catchment_ids AS (\n",
    "\t\t        SELECT catchmentid,\n",
    "\t\t\t\t-COUNT(*) as sign\n",
    "\t\t        FROM catchments\n",
    "                JOIN pois\n",
    "                ON pois.h3id = catchments.originh3id \t\t        \n",
    "\t\t        JOIN to_remove ON catchments.originh3id = to_remove.id\n",
    "                WHERE pois.category = in_poi_category\n",
    "                GROUP BY catchmentid\n",
    "\t\t    ),\n",
    "\t\t--- Find all distinct catchment IDs where POIs are to be added\n",
    "\t\tadd_catchment_ids AS (\n",
    "\t\t\tSELECT catchmentid,\n",
    "\t\t\t\tCOUNT(*) as sign -- to allow for adding multiple POIs in the same hexagon ID\n",
    "\t\t        FROM catchments \t\t        \n",
    "\t\t        JOIN unnest(in_add_hex_ids) m(id) ON catchments.originh3id = m.id\n",
    "                GROUP BY catchmentid\n",
    "\t\t\t),\n",
    "\t\t\t\n",
    "\t\t-- Merge them together\n",
    "\t\tall_catchment_ids AS (\n",
    "\t\t\tSELECT catchmentid, SUM(sign) as sign FROM \n",
    "\t\t\t(SELECT * FROM add_catchment_ids UNION SELECT * FROM remove_catchment_ids) as t\n",
    "\t\t\tGROUP BY catchmentid\n",
    "\t\t)\n",
    "            \n",
    "\t\t--- Obtain step 1 values to be adjusted\t\t\n",
    "\t\tSELECT \n",
    "\t\t\tstep1.h3id, \t\t\t\n",
    "\t\t\tsum(ratio * sign) as ratio -- sign is + if adding, - if removing\n",
    "\t\t\tFROM step1_stats as step1\n",
    "\t\t\tJOIN all_catchment_ids ON step1.catchmentid = all_catchment_ids.catchmentid\t\t\t\n",
    "\t\t\tWHERE \n",
    "\t\t\t\tcategorytype = in_categorytype\n",
    "\t\t\t\tAND\n",
    "\t\t\t\ttimeofday = in_timeofday\t\t\t\t\n",
    "\t\t\tGROUP BY step1.h3id;\n",
    "\t\t\n",
    "\n",
    "END;\n",
    "$addremovecatchments$;\n",
    "\n",
    "\"\"\"\n",
    "\n",
    "execute_sql(SQL)"
   ]
  },
  {
   "cell_type": "markdown",
   "metadata": {},
   "source": [
    "### Check #1 - adding and removing the same catchment area\n",
    "\n",
    "Case 1: removing and adding in a hex where only 1 POI of the type is present (Test case: Hospitals and clinics, H3ID: 8944c12a497ffff)"
   ]
  },
  {
   "cell_type": "code",
   "execution_count": 7,
   "metadata": {},
   "outputs": [
    {
     "name": "stdout",
     "output_type": "stream",
     "text": [
      "Test passed\n"
     ]
    },
    {
     "data": {
      "text/html": [
       "<div>\n",
       "<style scoped>\n",
       "    .dataframe tbody tr th:only-of-type {\n",
       "        vertical-align: middle;\n",
       "    }\n",
       "\n",
       "    .dataframe tbody tr th {\n",
       "        vertical-align: top;\n",
       "    }\n",
       "\n",
       "    .dataframe thead th {\n",
       "        text-align: right;\n",
       "    }\n",
       "</style>\n",
       "<table border=\"1\" class=\"dataframe\">\n",
       "  <thead>\n",
       "    <tr style=\"text-align: right;\">\n",
       "      <th></th>\n",
       "      <th>hexid</th>\n",
       "      <th>adjustment</th>\n",
       "    </tr>\n",
       "  </thead>\n",
       "  <tbody>\n",
       "    <tr>\n",
       "      <th>0</th>\n",
       "      <td>8944c12a483ffff</td>\n",
       "      <td>0.0</td>\n",
       "    </tr>\n",
       "    <tr>\n",
       "      <th>1</th>\n",
       "      <td>8944c138a7bffff</td>\n",
       "      <td>0.0</td>\n",
       "    </tr>\n",
       "    <tr>\n",
       "      <th>2</th>\n",
       "      <td>8944c138bcfffff</td>\n",
       "      <td>0.0</td>\n",
       "    </tr>\n",
       "    <tr>\n",
       "      <th>3</th>\n",
       "      <td>8944c138a27ffff</td>\n",
       "      <td>0.0</td>\n",
       "    </tr>\n",
       "    <tr>\n",
       "      <th>4</th>\n",
       "      <td>8944c138a6bffff</td>\n",
       "      <td>0.0</td>\n",
       "    </tr>\n",
       "  </tbody>\n",
       "</table>\n",
       "</div>"
      ],
      "text/plain": [
       "             hexid  adjustment\n",
       "0  8944c12a483ffff         0.0\n",
       "1  8944c138a7bffff         0.0\n",
       "2  8944c138bcfffff         0.0\n",
       "3  8944c138a27ffff         0.0\n",
       "4  8944c138a6bffff         0.0"
      ]
     },
     "execution_count": 7,
     "metadata": {},
     "output_type": "execute_result"
    }
   ],
   "source": [
    "id = '8944c12a497ffff'\n",
    "\n",
    "with psycopg2.connect(**db_params) as conn:\n",
    "    with conn.cursor() as cur:\n",
    "        cur.execute(\"\"\"\n",
    "        SELECT *\n",
    "            FROM api_add_remove_catchments(\n",
    "\t        array [%s], \n",
    "\t        array [%s],\t        \n",
    "\t        %s,\n",
    "\t        %s,\n",
    "            %s)\n",
    "        \"\"\", (id, id, 'morning', 'Race', 'Clinics and Hospitals'))\n",
    "        res = cur.fetchall()\n",
    "\n",
    "df = pd.DataFrame(res, columns=['hexid', 'adjustment'])\n",
    "assert (np.all(np.isclose(df.adjustment.values, 0))), \"Not all values are zero - check!\"\n",
    "print(\"Test passed\")\n",
    "df.head()"
   ]
  },
  {
   "cell_type": "markdown",
   "metadata": {},
   "source": [
    "Case 1b: removing the same hex id 2 times should still result in zero adjustment"
   ]
  },
  {
   "cell_type": "code",
   "execution_count": 14,
   "metadata": {},
   "outputs": [
    {
     "name": "stdout",
     "output_type": "stream",
     "text": [
      "Test passed\n"
     ]
    },
    {
     "data": {
      "text/html": [
       "<div>\n",
       "<style scoped>\n",
       "    .dataframe tbody tr th:only-of-type {\n",
       "        vertical-align: middle;\n",
       "    }\n",
       "\n",
       "    .dataframe tbody tr th {\n",
       "        vertical-align: top;\n",
       "    }\n",
       "\n",
       "    .dataframe thead th {\n",
       "        text-align: right;\n",
       "    }\n",
       "</style>\n",
       "<table border=\"1\" class=\"dataframe\">\n",
       "  <thead>\n",
       "    <tr style=\"text-align: right;\">\n",
       "      <th></th>\n",
       "      <th>hexid</th>\n",
       "      <th>adjustment</th>\n",
       "    </tr>\n",
       "  </thead>\n",
       "  <tbody>\n",
       "    <tr>\n",
       "      <th>0</th>\n",
       "      <td>8944c12a483ffff</td>\n",
       "      <td>0.0</td>\n",
       "    </tr>\n",
       "    <tr>\n",
       "      <th>1</th>\n",
       "      <td>8944c138a7bffff</td>\n",
       "      <td>0.0</td>\n",
       "    </tr>\n",
       "    <tr>\n",
       "      <th>2</th>\n",
       "      <td>8944c138bcfffff</td>\n",
       "      <td>0.0</td>\n",
       "    </tr>\n",
       "    <tr>\n",
       "      <th>3</th>\n",
       "      <td>8944c138a27ffff</td>\n",
       "      <td>0.0</td>\n",
       "    </tr>\n",
       "    <tr>\n",
       "      <th>4</th>\n",
       "      <td>8944c138a6bffff</td>\n",
       "      <td>0.0</td>\n",
       "    </tr>\n",
       "  </tbody>\n",
       "</table>\n",
       "</div>"
      ],
      "text/plain": [
       "             hexid  adjustment\n",
       "0  8944c12a483ffff         0.0\n",
       "1  8944c138a7bffff         0.0\n",
       "2  8944c138bcfffff         0.0\n",
       "3  8944c138a27ffff         0.0\n",
       "4  8944c138a6bffff         0.0"
      ]
     },
     "execution_count": 14,
     "metadata": {},
     "output_type": "execute_result"
    }
   ],
   "source": [
    "id = '8944c12a497ffff'\n",
    "\n",
    "with psycopg2.connect(**db_params) as conn:\n",
    "    with conn.cursor() as cur:\n",
    "        cur.execute(\"\"\"\n",
    "        SELECT *\n",
    "            FROM api_add_remove_catchments(\n",
    "\t        %s, \n",
    "\t        array [%s],\t        \n",
    "\t        %s,\n",
    "\t        %s,\n",
    "            %s)\n",
    "        \"\"\", ([id]*2, id, 'morning', 'Race', 'Clinics and Hospitals'))\n",
    "        res = cur.fetchall()\n",
    "\n",
    "df = pd.DataFrame(res, columns=['hexid', 'adjustment'])\n",
    "assert (np.all(np.isclose(df.adjustment.values, 0))), \"Not all values are zero - check!\"\n",
    "print(\"Test passed\")\n",
    "df.head()"
   ]
  },
  {
   "cell_type": "markdown",
   "metadata": {},
   "source": [
    "Case 2: removing and adding in a hex where only multiple POIs of the type is present (Test case: Restaurants, H3ID: 8944c12a497ffff, there are 14 of them)"
   ]
  },
  {
   "cell_type": "code",
   "execution_count": 8,
   "metadata": {},
   "outputs": [
    {
     "name": "stdout",
     "output_type": "stream",
     "text": [
      "Test passed\n"
     ]
    },
    {
     "data": {
      "text/html": [
       "<div>\n",
       "<style scoped>\n",
       "    .dataframe tbody tr th:only-of-type {\n",
       "        vertical-align: middle;\n",
       "    }\n",
       "\n",
       "    .dataframe tbody tr th {\n",
       "        vertical-align: top;\n",
       "    }\n",
       "\n",
       "    .dataframe thead th {\n",
       "        text-align: right;\n",
       "    }\n",
       "</style>\n",
       "<table border=\"1\" class=\"dataframe\">\n",
       "  <thead>\n",
       "    <tr style=\"text-align: right;\">\n",
       "      <th></th>\n",
       "      <th>hexid</th>\n",
       "      <th>adjustment</th>\n",
       "    </tr>\n",
       "  </thead>\n",
       "  <tbody>\n",
       "    <tr>\n",
       "      <th>0</th>\n",
       "      <td>8944ccd903bffff</td>\n",
       "      <td>-22.132556</td>\n",
       "    </tr>\n",
       "    <tr>\n",
       "      <th>1</th>\n",
       "      <td>8944ccd90a3ffff</td>\n",
       "      <td>-22.132556</td>\n",
       "    </tr>\n",
       "    <tr>\n",
       "      <th>2</th>\n",
       "      <td>8944ccd901bffff</td>\n",
       "      <td>-22.132556</td>\n",
       "    </tr>\n",
       "    <tr>\n",
       "      <th>3</th>\n",
       "      <td>8944ccd93dbffff</td>\n",
       "      <td>-22.132556</td>\n",
       "    </tr>\n",
       "    <tr>\n",
       "      <th>4</th>\n",
       "      <td>8944ccd9047ffff</td>\n",
       "      <td>-22.132556</td>\n",
       "    </tr>\n",
       "  </tbody>\n",
       "</table>\n",
       "</div>"
      ],
      "text/plain": [
       "             hexid  adjustment\n",
       "0  8944ccd903bffff  -22.132556\n",
       "1  8944ccd90a3ffff  -22.132556\n",
       "2  8944ccd901bffff  -22.132556\n",
       "3  8944ccd93dbffff  -22.132556\n",
       "4  8944ccd9047ffff  -22.132556"
      ]
     },
     "execution_count": 8,
     "metadata": {},
     "output_type": "execute_result"
    }
   ],
   "source": [
    "id = '8944ccd9073ffff'\n",
    "\n",
    "with psycopg2.connect(**db_params) as conn:\n",
    "    with conn.cursor() as cur:\n",
    "        cur.execute(\"\"\"\n",
    "        SELECT *\n",
    "            FROM api_add_remove_catchments(\n",
    "\t        array [%s], \n",
    "\t        array [%s],\t        \n",
    "\t        %s,\n",
    "\t        %s,\n",
    "            %s)\n",
    "        \"\"\", (id, id, 'morning', 'Race', 'Restaurants'))\n",
    "        res = cur.fetchall()\n",
    "\n",
    "df = pd.DataFrame(res, columns=['hexid', 'adjustment'])\n",
    "assert (np.all(df.adjustment.values < 0)), \"Not all values are zero - check!\"\n",
    "print(\"Test passed\")\n",
    "df.head()"
   ]
  },
  {
   "cell_type": "markdown",
   "metadata": {},
   "source": [
    "Case 3: removing 1 POI where multiple exist and adding the same number (multiple) back should result in adjustment of zero."
   ]
  },
  {
   "cell_type": "code",
   "execution_count": 9,
   "metadata": {},
   "outputs": [
    {
     "name": "stdout",
     "output_type": "stream",
     "text": [
      "Test passed\n"
     ]
    },
    {
     "data": {
      "text/html": [
       "<div>\n",
       "<style scoped>\n",
       "    .dataframe tbody tr th:only-of-type {\n",
       "        vertical-align: middle;\n",
       "    }\n",
       "\n",
       "    .dataframe tbody tr th {\n",
       "        vertical-align: top;\n",
       "    }\n",
       "\n",
       "    .dataframe thead th {\n",
       "        text-align: right;\n",
       "    }\n",
       "</style>\n",
       "<table border=\"1\" class=\"dataframe\">\n",
       "  <thead>\n",
       "    <tr style=\"text-align: right;\">\n",
       "      <th></th>\n",
       "      <th>hexid</th>\n",
       "      <th>adjustment</th>\n",
       "    </tr>\n",
       "  </thead>\n",
       "  <tbody>\n",
       "    <tr>\n",
       "      <th>0</th>\n",
       "      <td>8944ccd93dbffff</td>\n",
       "      <td>0.0</td>\n",
       "    </tr>\n",
       "    <tr>\n",
       "      <th>1</th>\n",
       "      <td>8944ccd93d3ffff</td>\n",
       "      <td>0.0</td>\n",
       "    </tr>\n",
       "    <tr>\n",
       "      <th>2</th>\n",
       "      <td>8944ccd9297ffff</td>\n",
       "      <td>0.0</td>\n",
       "    </tr>\n",
       "    <tr>\n",
       "      <th>3</th>\n",
       "      <td>8944ccd92abffff</td>\n",
       "      <td>0.0</td>\n",
       "    </tr>\n",
       "    <tr>\n",
       "      <th>4</th>\n",
       "      <td>8944ccd906fffff</td>\n",
       "      <td>0.0</td>\n",
       "    </tr>\n",
       "  </tbody>\n",
       "</table>\n",
       "</div>"
      ],
      "text/plain": [
       "             hexid  adjustment\n",
       "0  8944ccd93dbffff         0.0\n",
       "1  8944ccd93d3ffff         0.0\n",
       "2  8944ccd9297ffff         0.0\n",
       "3  8944ccd92abffff         0.0\n",
       "4  8944ccd906fffff         0.0"
      ]
     },
     "execution_count": 9,
     "metadata": {},
     "output_type": "execute_result"
    }
   ],
   "source": [
    "id = '8944ccd9073ffff'\n",
    "\n",
    "with psycopg2.connect(**db_params) as conn:\n",
    "    with conn.cursor() as cur:\n",
    "        cur.execute(\"select COUNT(*) FROM pois where category = 'Restaurants' AND h3id = %s\", (id, ))\n",
    "        count = cur.fetchone()[0]\n",
    "        cur.execute(\"\"\"\n",
    "        SELECT *\n",
    "            FROM api_add_remove_catchments(\n",
    "\t        %s,\n",
    "\t        %s,\n",
    "\t        %s,\n",
    "\t        %s,\n",
    "            %s)\n",
    "        \"\"\", ([id], [id]*count, 'morning', 'Race', 'Restaurants'))\n",
    "        res = cur.fetchall()\n",
    "\n",
    "df = pd.DataFrame(res, columns=['hexid', 'adjustment'])\n",
    "assert (np.all(np.isclose(df.adjustment.values,0))), \"Not all values are zero - check!\"\n",
    "print(\"Test passed\")\n",
    "df.head()"
   ]
  },
  {
   "cell_type": "markdown",
   "metadata": {},
   "source": [
    "### Check #2 - adding a catchment area should result only in positive adjustments"
   ]
  },
  {
   "cell_type": "code",
   "execution_count": 10,
   "metadata": {},
   "outputs": [
    {
     "name": "stdout",
     "output_type": "stream",
     "text": [
      "Tests passed\n"
     ]
    },
    {
     "data": {
      "text/html": [
       "<div>\n",
       "<style scoped>\n",
       "    .dataframe tbody tr th:only-of-type {\n",
       "        vertical-align: middle;\n",
       "    }\n",
       "\n",
       "    .dataframe tbody tr th {\n",
       "        vertical-align: top;\n",
       "    }\n",
       "\n",
       "    .dataframe thead th {\n",
       "        text-align: right;\n",
       "    }\n",
       "</style>\n",
       "<table border=\"1\" class=\"dataframe\">\n",
       "  <thead>\n",
       "    <tr style=\"text-align: right;\">\n",
       "      <th></th>\n",
       "      <th>hexid</th>\n",
       "      <th>adjustment</th>\n",
       "    </tr>\n",
       "  </thead>\n",
       "  <tbody>\n",
       "    <tr>\n",
       "      <th>0</th>\n",
       "      <td>8944c1a8e93ffff</td>\n",
       "      <td>0.07674</td>\n",
       "    </tr>\n",
       "    <tr>\n",
       "      <th>1</th>\n",
       "      <td>8944c1a83cfffff</td>\n",
       "      <td>0.07674</td>\n",
       "    </tr>\n",
       "    <tr>\n",
       "      <th>2</th>\n",
       "      <td>8944c1a164fffff</td>\n",
       "      <td>0.07674</td>\n",
       "    </tr>\n",
       "    <tr>\n",
       "      <th>3</th>\n",
       "      <td>8944c1aaa4fffff</td>\n",
       "      <td>0.07674</td>\n",
       "    </tr>\n",
       "    <tr>\n",
       "      <th>4</th>\n",
       "      <td>8944c1a9cd3ffff</td>\n",
       "      <td>0.07674</td>\n",
       "    </tr>\n",
       "  </tbody>\n",
       "</table>\n",
       "</div>"
      ],
      "text/plain": [
       "             hexid  adjustment\n",
       "0  8944c1a8e93ffff     0.07674\n",
       "1  8944c1a83cfffff     0.07674\n",
       "2  8944c1a164fffff     0.07674\n",
       "3  8944c1aaa4fffff     0.07674\n",
       "4  8944c1a9cd3ffff     0.07674"
      ]
     },
     "execution_count": 10,
     "metadata": {},
     "output_type": "execute_result"
    }
   ],
   "source": [
    "id = ['8944c1a8133ffff']\n",
    "\n",
    "with psycopg2.connect(**db_params) as conn:\n",
    "    with conn.cursor() as cur:\n",
    "        cur.execute(\"\"\"\n",
    "        SELECT *\n",
    "            FROM api_add_remove_catchments(\t        \n",
    "\t        array [%s],\n",
    "            %s, \t        \n",
    "\t        %s,\n",
    "\t        %s, %s)\n",
    "        \"\"\", (\"\", [id], 'morning', 'Race', 'Restaurants'))\n",
    "        res = cur.fetchall()\n",
    "\n",
    "df = pd.DataFrame(res, columns=['hexid', 'adjustment'])\n",
    "assert (np.all(np.isclose(df.adjustment.values > 0, True))), \"Not all values are larger than zero - check!\"\n",
    "assert (np.all(np.isclose(df.adjustment.values - df.adjustment.values[0], 0))), \"Not all values are identical - check!\"\n",
    "print(\"Tests passed\")\n",
    "df.head()"
   ]
  },
  {
   "cell_type": "markdown",
   "metadata": {},
   "source": [
    "Case 2: adding 2 catchment areas that are overlapping should result in positive adjustments only, but 3 unique values."
   ]
  },
  {
   "cell_type": "code",
   "execution_count": 11,
   "metadata": {},
   "outputs": [
    {
     "name": "stdout",
     "output_type": "stream",
     "text": [
      "Tests passed\n"
     ]
    },
    {
     "data": {
      "text/plain": [
       "{0.081529, 0.108891, 0.19042}"
      ]
     },
     "execution_count": 11,
     "metadata": {},
     "output_type": "execute_result"
    }
   ],
   "source": [
    "ids = ['8944c1a8177ffff', '8944c1a812bffff']\n",
    "\n",
    "with psycopg2.connect(**db_params) as conn:\n",
    "    with conn.cursor() as cur:\n",
    "        cur.execute(\"\"\"\n",
    "        SELECT *\n",
    "            FROM api_add_remove_catchments(\t        \n",
    "\t        array [%s],\n",
    "            %s, \t        \n",
    "\t        %s,\n",
    "\t        %s, %s)\n",
    "        \"\"\", (\"\", ids, 'morning', 'Race', 'Restaurants'))\n",
    "        res = cur.fetchall()\n",
    "\n",
    "df = pd.DataFrame(res, columns=['hexid', 'adjustment'])\n",
    "assert (np.all(np.isclose(df.adjustment.values > 0, True))), \"Not all values are larger than zero - check!\"\n",
    "assert (len(set(np.round(df.adjustment.values, 6))) == 3), \"All values are identical - check!\"\n",
    "print(\"Tests passed\")\n",
    "set(np.round(df.adjustment.values, 6))"
   ]
  },
  {
   "cell_type": "markdown",
   "metadata": {},
   "source": [
    "### Check #3 - removing catchment area should result in identical negative adjustment everywhere"
   ]
  },
  {
   "cell_type": "code",
   "execution_count": 12,
   "metadata": {},
   "outputs": [
    {
     "name": "stdout",
     "output_type": "stream",
     "text": [
      "Tests passed\n"
     ]
    }
   ],
   "source": [
    "id = '8944c106d37ffff'\n",
    "\n",
    "with psycopg2.connect(**db_params) as conn:\n",
    "    with conn.cursor() as cur:\n",
    "        cur.execute(\"\"\"\n",
    "        SELECT *\n",
    "            FROM api_add_remove_catchments(\t        \t        \n",
    "            array [%s], \n",
    "            array [%s],\t        \n",
    "\t        %s,\n",
    "\t        %s,\n",
    "            %s)\n",
    "        \"\"\", (id, \"\", 'morning', 'Race', 'Restaurants'))\n",
    "        res = cur.fetchall()\n",
    "\n",
    "df = pd.DataFrame(res, columns=['hexid', 'adjustment'])\n",
    "assert (np.all(np.isclose(df.adjustment.values < 0, True))), \"Not all values are smaller than zero - check!\"\n",
    "assert (np.all(np.isclose(df.adjustment.values - df.adjustment.values[0], 0))), \"Not all values are identical - check!\"\n",
    "print(\"Tests passed\")"
   ]
  }
 ],
 "metadata": {
  "interpreter": {
   "hash": "bf0d96ebd2a5dd04824f7e10db890ae617139d6f917167f42fcdcc1217b9ad8b"
  },
  "kernelspec": {
   "display_name": "cse6242project",
   "language": "python",
   "name": "cse6242project"
  },
  "language_info": {
   "codemirror_mode": {
    "name": "ipython",
    "version": 3
   },
   "file_extension": ".py",
   "mimetype": "text/x-python",
   "name": "python",
   "nbconvert_exporter": "python",
   "pygments_lexer": "ipython3",
   "version": "3.9.7"
  },
  "orig_nbformat": 4
 },
 "nbformat": 4,
 "nbformat_minor": 2
}
