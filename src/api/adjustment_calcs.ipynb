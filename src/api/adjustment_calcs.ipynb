{
 "cells": [
  {
   "cell_type": "markdown",
   "metadata": {},
   "source": [
    "## Adjusting accessibility statistics"
   ]
  },
  {
   "cell_type": "code",
   "execution_count": 11,
   "metadata": {},
   "outputs": [],
   "source": [
    "import psycopg2\n",
    "import configparser\n",
    "import pandas as pd\n",
    "import numpy as np\n",
    "\n",
    "config = configparser.ConfigParser()\n",
    "config.read(\"../../config.ini\")    \n",
    "db_params = dict(config['DB'])\n",
    "from sqlalchemy import create_engine\n",
    "\n",
    "def execute_sql(SQL):\n",
    "        with psycopg2.connect(**db_params) as conn:\n",
    "            with conn.cursor() as cur:\n",
    "                cur.execute(SQL)        \n",
    "\n",
    "\n",
    "def get_alchemy_engine():\n",
    "    conn_string = 'postgresql://{user}:{password}@{host}:{port}/{dbname}'.format(**db_params)\n",
    "    return create_engine(conn_string, echo=False)"
   ]
  },
  {
   "cell_type": "markdown",
   "metadata": {},
   "source": [
    "### Creating the function that calculates the adjustment required"
   ]
  },
  {
   "cell_type": "code",
   "execution_count": 42,
   "metadata": {},
   "outputs": [],
   "source": [
    "SQL = \"\"\"\n",
    "DROP FUNCTION api_add_remove_catchments;\n",
    "\n",
    "CREATE OR REPLACE FUNCTION api_add_remove_catchments(\n",
    "    in_remove_hex_ids character[],\n",
    "    in_add_hex_ids character[],\t\n",
    "\tin_poi_category varchar,\n",
    "\tin_timeofday varchar,\n",
    "\tin_categorytype text\n",
    ")\n",
    "    RETURNS TABLE\n",
    "            (\n",
    "                h3id         character,                \n",
    "                groupname    text,                                \n",
    "                adjustment        float\n",
    "            )\n",
    "    LANGUAGE plpgsql\n",
    "AS\n",
    "$addremovecatchments$\n",
    "BEGIN\n",
    "    RETURN QUERY\n",
    "\t\t--- Find all distinct catchment IDs where POIs are to be removed\n",
    "        WITH remove_catchment_ids AS (\n",
    "\t\t        SELECT DISTINCT catchmentid,\n",
    "\t\t\t\t-1 as sign\n",
    "\t\t        FROM catchments \t\t        \n",
    "\t\t        JOIN unnest(in_remove_hex_ids) m(id) ON catchments.originh3id = m.id\n",
    "\t\t    ),\n",
    "\t\t--- Find all distinct catchment IDs where POIs are to be added\n",
    "\t\tadd_catchment_ids AS (\n",
    "\t\t\tSELECT catchmentid,\n",
    "\t\t\t\tCOUNT(*) as sign -- to allow for adding multiple POIs in the same hexagon ID\n",
    "\t\t        FROM catchments \t\t        \n",
    "\t\t        JOIN unnest(in_add_hex_ids) m(id) ON catchments.originh3id = m.id\n",
    "                GROUP BY catchmentid\n",
    "\t\t\t),\n",
    "\t\t\t\n",
    "\t\t-- Merge them together\n",
    "\t\tall_catchment_ids AS (\n",
    "\t\t\tSELECT catchmentid, SUM(sign) as sign FROM \n",
    "\t\t\t(SELECT * FROM add_catchment_ids UNION SELECT * FROM remove_catchment_ids) as t\n",
    "\t\t\tGROUP BY catchmentid\n",
    "\t\t)\n",
    "            \n",
    "\t\t--- Obtain step 1 values to be adjusted\t\t\n",
    "\t\tSELECT \n",
    "\t\t\tstep1.h3id, \n",
    "\t\t\tstep1.groupname, \n",
    "\t\t\tsum(ratio * sign) as ratio -- sign is + if adding, - if removing\n",
    "\t\t\tFROM step1_stats as step1\n",
    "\t\t\tJOIN all_catchment_ids ON step1.catchmentid = all_catchment_ids.catchmentid\t\t\t\n",
    "\t\t\tWHERE \n",
    "\t\t\t\tcategorytype = in_categorytype\n",
    "\t\t\t\tAND\n",
    "\t\t\t\ttimeofday = in_timeofday\n",
    "\t\t\t\tAND\n",
    "\t\t\t\tpoi_category = in_poi_category\n",
    "\t\t\tGROUP BY step1.h3id, step1.groupname;\t\t\t\t\n",
    "\t\t\n",
    "\n",
    "END;\n",
    "$addremovecatchments$;\n",
    "\n",
    "\"\"\"\n",
    "\n",
    "execute_sql(SQL)"
   ]
  },
  {
   "cell_type": "markdown",
   "metadata": {},
   "source": [
    "### Check #1 - adding and removing the same catchment area\n",
    "\n",
    "Hex ID 8944c106d37ffff contains multiple restaurants - despite that, the adjustment should be zero!"
   ]
  },
  {
   "cell_type": "code",
   "execution_count": 43,
   "metadata": {},
   "outputs": [
    {
     "name": "stdout",
     "output_type": "stream",
     "text": [
      "Test passed\n"
     ]
    }
   ],
   "source": [
    "id = '8944c106d37ffff'\n",
    "\n",
    "with psycopg2.connect(**db_params) as conn:\n",
    "    with conn.cursor() as cur:\n",
    "        cur.execute(\"\"\"\n",
    "        SELECT *\n",
    "            FROM api_add_remove_catchments(\n",
    "\t        array [%s], \n",
    "\t        array [%s],\n",
    "\t        %s,\n",
    "\t        %s,\n",
    "\t        %s)\n",
    "        \"\"\", (id, id, 'Restaurants', 'morning', 'Race'))\n",
    "        res = cur.fetchall()\n",
    "\n",
    "df = pd.DataFrame(res, columns=['hexid', 'group', 'adjustment'])\n",
    "assert (np.all(np.isclose(df.adjustment.values, 0))), \"Not all values are zero - check!\"\n",
    "print(\"Test passed\")"
   ]
  },
  {
   "cell_type": "markdown",
   "metadata": {},
   "source": [
    "### Check #2 - adding a catchment area should result only in positive adjustments"
   ]
  },
  {
   "cell_type": "code",
   "execution_count": 44,
   "metadata": {},
   "outputs": [
    {
     "name": "stdout",
     "output_type": "stream",
     "text": [
      "Tests passed\n"
     ]
    }
   ],
   "source": [
    "id = '8944c106d37ffff'\n",
    "\n",
    "with psycopg2.connect(**db_params) as conn:\n",
    "    with conn.cursor() as cur:\n",
    "        cur.execute(\"\"\"\n",
    "        SELECT *\n",
    "            FROM api_add_remove_catchments(\t        \n",
    "\t        array [%s],\n",
    "            array [%s], \n",
    "\t        %s,\n",
    "\t        %s,\n",
    "\t        %s)\n",
    "        \"\"\", (\"\", id, 'Restaurants', 'morning', 'Race'))\n",
    "        res = cur.fetchall()\n",
    "\n",
    "df = pd.DataFrame(res, columns=['hexid', 'group', 'adjustment'])\n",
    "assert (np.all(np.isclose(df.adjustment.values > 0, True))), \"Not all values are larger than zero - check!\"\n",
    "assert (np.all(np.isclose(df.adjustment.values - df.adjustment.values[0], 0))), \"Not all values are identical - check!\"\n",
    "print(\"Tests passed\")"
   ]
  },
  {
   "cell_type": "markdown",
   "metadata": {},
   "source": [
    "### Check #3 - removing catchment area should result in identical negative adjustment everywhere"
   ]
  },
  {
   "cell_type": "code",
   "execution_count": 45,
   "metadata": {},
   "outputs": [
    {
     "name": "stdout",
     "output_type": "stream",
     "text": [
      "Tests passed\n"
     ]
    }
   ],
   "source": [
    "id = '8944c106d37ffff'\n",
    "\n",
    "with psycopg2.connect(**db_params) as conn:\n",
    "    with conn.cursor() as cur:\n",
    "        cur.execute(\"\"\"\n",
    "        SELECT *\n",
    "            FROM api_add_remove_catchments(\t        \t        \n",
    "            array [%s], \n",
    "            array [%s],\n",
    "\t        %s,\n",
    "\t        %s,\n",
    "\t        %s)\n",
    "        \"\"\", (id, \"\", 'Restaurants', 'morning', 'Race'))\n",
    "        res = cur.fetchall()\n",
    "\n",
    "df = pd.DataFrame(res, columns=['hexid', 'group', 'adjustment'])\n",
    "assert (np.all(np.isclose(df.adjustment.values < 0, True))), \"Not all values are smaller than zero - check!\"\n",
    "assert (np.all(np.isclose(df.adjustment.values - df.adjustment.values[0], 0))), \"Not all values are identical - check!\"\n",
    "print(\"Tests passed\")"
   ]
  }
 ],
 "metadata": {
  "interpreter": {
   "hash": "bf0d96ebd2a5dd04824f7e10db890ae617139d6f917167f42fcdcc1217b9ad8b"
  },
  "kernelspec": {
   "display_name": "Python 3.9.7 ('cse6242project')",
   "language": "python",
   "name": "python3"
  },
  "language_info": {
   "codemirror_mode": {
    "name": "ipython",
    "version": 3
   },
   "file_extension": ".py",
   "mimetype": "text/x-python",
   "name": "python",
   "nbconvert_exporter": "python",
   "pygments_lexer": "ipython3",
   "version": "3.9.7"
  },
  "orig_nbformat": 4
 },
 "nbformat": 4,
 "nbformat_minor": 2
}
