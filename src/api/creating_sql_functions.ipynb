{
 "cells": [
  {
   "cell_type": "markdown",
   "metadata": {},
   "source": [
    "# SQL function creation\n",
    "\n",
    "This notebook stores the code that creates the SQL functions that are then used by the API code. Needs to be run only once (and re-run if any updates of course!).\n",
    "\n",
    "**Important**:In order to keep the list clean, please prefix any new functions with `api_`"
   ]
  },
  {
   "cell_type": "code",
   "execution_count": 1,
   "metadata": {},
   "outputs": [],
   "source": [
    "import psycopg2\n",
    "import configparser\n",
    "\n",
    "config = configparser.ConfigParser()\n",
    "config.read(\"../../config.ini\")    \n",
    "db_params = dict(config['DB'])\n",
    "\n",
    "def execute_sql(SQL):\n",
    "        with psycopg2.connect(**db_params) as conn:\n",
    "            with conn.cursor() as cur:\n",
    "                cur.execute(SQL)        "
   ]
  },
  {
   "cell_type": "markdown",
   "metadata": {},
   "source": [
    "### Getting POIs for a given city\n",
    "\n",
    "API endpoint: /pois"
   ]
  },
  {
   "cell_type": "code",
   "execution_count": 12,
   "metadata": {},
   "outputs": [],
   "source": [
    "SQL = \"\"\"\n",
    "\n",
    "CREATE OR REPLACE FUNCTION api_get_pois_for_city(\n",
    "    city_id int, poi_category character)\n",
    "    RETURNS TABLE\n",
    "            (\n",
    "                id          int,\n",
    "                h3id    char,\n",
    "                name    varchar,\n",
    "                lat         real,\n",
    "                long        real,\n",
    "                category    varchar\n",
    "            )\n",
    "    LANGUAGE plpgsql\n",
    "AS\n",
    "$poiforcity$\n",
    "BEGIN    \n",
    "    RETURN QUERY\n",
    "        SELECT pois.poiid, pois.h3id, pois.name, pois.lat, pois.long, pois.category \n",
    "            FROM pois \n",
    "            JOIN cityh3map ON cityh3map.h3id = pois.h3id\n",
    "\t\t    JOIN cities ON cities.cityid = cityh3map.cityid\n",
    "\t\t    WHERE cities.cityID = city_id AND pois.category = poi_category;\n",
    "END;\n",
    "$poiforcity$;\n",
    "\n",
    "\"\"\"\n",
    "\n",
    "execute_sql(SQL)"
   ]
  },
  {
   "cell_type": "markdown",
   "metadata": {},
   "source": [
    "### Demographics for a city"
   ]
  },
  {
   "cell_type": "markdown",
   "metadata": {},
   "source": [
    "First, we create a precomputed table where all population data is allocated to individual H3 grid cells."
   ]
  },
  {
   "cell_type": "code",
   "execution_count": 5,
   "metadata": {},
   "outputs": [],
   "source": [
    "create_sql = \"\"\"\n",
    "\n",
    "DROP TABLE IF EXISTS h3demographics;\n",
    "\n",
    "CREATE TABLE public.h3demographics\n",
    "(\n",
    "    cityid bigint,\n",
    "    categorytype text,\n",
    "    groupname text,\n",
    "    h3id character(15),\n",
    "    population double precision,\n",
    "    id bigserial,\n",
    "    CONSTRAINT h3demographics_id PRIMARY KEY (id),\n",
    "    CONSTRAINT unique_key UNIQUE (cityid, categorytype, groupname, h3id)\n",
    ");\n",
    "\n",
    "CREATE INDEX IF NOT EXISTS h3id_cityid ON public.h3demographics (cityid, h3id);\n",
    "\"\"\"\n",
    "\n",
    "execute_sql(create_sql)"
   ]
  },
  {
   "cell_type": "markdown",
   "metadata": {},
   "source": [
    "Then, we populate it using the demographics data currently available in the database. This takes a moment (~30s currently)."
   ]
  },
  {
   "cell_type": "code",
   "execution_count": null,
   "metadata": {},
   "outputs": [],
   "source": [
    "SQL = \"\"\"\n",
    "WITH \n",
    "     censush3_counts AS (\n",
    "\t\tSELECT \n",
    "\t\t \tcities.cityID, \n",
    "\t\t \tcensush3map.censusblockgroupid, \n",
    "\t\t \tcount(cityh3map.h3id) as hexagon_count\n",
    "\t\tFROM cityh3map\n",
    "\t\tJOIN cities ON cities.cityID = cityh3map.cityID\n",
    "\t\tJOIN censush3map ON censush3map.h3id = cityh3map.h3id\t\t\t\n",
    "\t\tGROUP BY censush3map.censusblockgroupid, cities.cityID\n",
    "\t),\n",
    "\n",
    "\t--- Then, find associated population totals for \n",
    "\t--- the entire census block for each H3 hexagon in the city\n",
    "\n",
    "\tdemographic_totals AS (\n",
    "\t\tSELECT \n",
    "\t\t\tcities.cityID, \n",
    "\t\t\tdemographics.categorytype, \n",
    "\t\t\tcensush3map.censusblockgroupid, \n",
    "\t\t\tcityh3map.h3id, \n",
    "\t\t\tdemographics.groupname, \n",
    "\t\t\tdemographics.total\n",
    "\t\tFROM cityh3map\n",
    "\t\tJOIN cities \n",
    "\t\t\tON cities.cityID = cityh3map.cityID\n",
    "\t\tJOIN censush3map \n",
    "\t\t\tON censush3map.h3id = cityh3map.h3id\n",
    "\t\tJOIN demographics \n",
    "\t\t\tON censush3map.censusblockgroupid = demographics.censusblockgroupid        \n",
    "\t)\n",
    "\n",
    "\t--- Finally, join the above two tables together, and split the population equally among all hexagons\n",
    "    --- Take the result and insert it into the h3demographics table\n",
    "\n",
    "\tINSERT INTO h3demographics (cityid, categorytype, groupname, h3id, population)\n",
    "        SELECT \n",
    "            d.cityID,\n",
    "            d.categorytype,\n",
    "            d.groupname, \n",
    "            d.h3id, \t\t\n",
    "            d.total::float / c.hexagon_count::float as population\t\t\n",
    "            FROM demographic_totals as d\n",
    "            JOIN censush3_counts as c \n",
    "                ON \td.censusblockgroupid = c.censusblockgroupid AND\n",
    "                    d.cityID = c.cityID\n",
    "\n",
    "\"\"\"\n",
    "\n",
    "execute_sql(SQL)"
   ]
  },
  {
   "cell_type": "markdown",
   "metadata": {},
   "source": [
    "Finally, we create a function that retrieves the information from the table."
   ]
  },
  {
   "cell_type": "code",
   "execution_count": 7,
   "metadata": {},
   "outputs": [],
   "source": [
    "SQL = \"\"\"\n",
    "-- Demographics for a city\n",
    "\n",
    "CREATE OR REPLACE FUNCTION api_get_demographics_for_city(\n",
    "    in_cityid integer, in_categorytype character)\n",
    "    RETURNS TABLE\n",
    "            (\n",
    "                h3id    char,\n",
    "                groupname   text,\n",
    "                population   float\n",
    "            )\n",
    "    LANGUAGE plpgsql\n",
    "AS\n",
    "$demographicsforcity$\n",
    "BEGIN\n",
    "    \n",
    "    RETURN QUERY\n",
    "        SELECT h3demographics.h3id, h3demographics.groupname, h3demographics.population from h3demographics \n",
    "        WHERE cityid = in_cityid and categorytype = in_categorytype;\n",
    "\n",
    "END;\n",
    "$demographicsforcity$;\n",
    "\n",
    "-- SELECT * FROM api_get_demographics_for_city(1, 'Race'); \n",
    "\"\"\"\n",
    "\n",
    "execute_sql(SQL)"
   ]
  },
  {
   "cell_type": "markdown",
   "metadata": {},
   "source": [
    "### Getting catchment area statistics for a given H3ID origin"
   ]
  },
  {
   "cell_type": "code",
   "execution_count": 10,
   "metadata": {},
   "outputs": [],
   "source": [
    "SQL = \"\"\"\n",
    "-- Demographics for a catchment area\n",
    "\n",
    "CREATE OR REPLACE FUNCTION api_get_demographics_for_catchment(\n",
    "    in_cityid integer, \n",
    "    in_categorytype character,\n",
    "    in_catchment_id integer\n",
    ")\n",
    "    RETURNS TABLE\n",
    "            (                \n",
    "                groupname   text,\n",
    "                population   float\n",
    "            )\n",
    "    LANGUAGE plpgsql\n",
    "AS\n",
    "$demographicsforarea$\n",
    "BEGIN\n",
    "    \n",
    "    RETURN QUERY\n",
    "\n",
    "        \n",
    "        SELECT demo.groupname, SUM(demo.population) as population \n",
    "            FROM api_get_demographics_for_city(in_cityid, in_categorytype) as demo\n",
    "            JOIN catchmenth3map ON catchmenth3map.h3id = demo.h3id\n",
    "            JOIN catchments ON catchments.catchmentid = catchmenth3map.catchmentid\n",
    "            WHERE catchments.catchmentid = in_catchment_id\n",
    "        \tGROUP BY demo.groupname;\n",
    "\n",
    "END;\n",
    "$demographicsforarea$;\n",
    "\n",
    "-- SELECT * FROM api_get_demographics_for_catchment(1, 'Race', 1); \n",
    "\"\"\"\n",
    "\n",
    "execute_sql(SQL)"
   ]
  }
 ],
 "metadata": {
  "interpreter": {
   "hash": "bf0d96ebd2a5dd04824f7e10db890ae617139d6f917167f42fcdcc1217b9ad8b"
  },
  "kernelspec": {
   "display_name": "Python 3.9.7 ('cse6242project')",
   "language": "python",
   "name": "python3"
  },
  "language_info": {
   "codemirror_mode": {
    "name": "ipython",
    "version": 3
   },
   "file_extension": ".py",
   "mimetype": "text/x-python",
   "name": "python",
   "nbconvert_exporter": "python",
   "pygments_lexer": "ipython3",
   "version": "3.9.7"
  },
  "orig_nbformat": 4
 },
 "nbformat": 4,
 "nbformat_minor": 2
}
