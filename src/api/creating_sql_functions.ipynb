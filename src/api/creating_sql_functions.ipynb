{
 "cells": [
  {
   "cell_type": "markdown",
   "metadata": {},
   "source": [
    "# SQL function creation\n",
    "\n",
    "This notebook stores the code that creates the SQL functions that are then used by the API code. Needs to be run only once (and re-run if any updates of course!).\n",
    "\n",
    "**Important**:In order to keep the list clean, please prefix any new functions with `api_`"
   ]
  },
  {
   "cell_type": "code",
   "execution_count": 1,
   "metadata": {},
   "outputs": [],
   "source": [
    "import psycopg2\n",
    "import configparser\n",
    "\n",
    "config = configparser.ConfigParser()\n",
    "config.read(\"../../config.ini\")    \n",
    "db_params = dict(config['DB'])\n",
    "\n",
    "def execute_sql(SQL):\n",
    "        with psycopg2.connect(**db_params) as conn:\n",
    "            with conn.cursor() as cur:\n",
    "                cur.execute(SQL)        "
   ]
  },
  {
   "cell_type": "markdown",
   "metadata": {},
   "source": [
    "### Getting POIs for a given city\n",
    "\n",
    "API endpoint: /pois"
   ]
  },
  {
   "cell_type": "code",
   "execution_count": 12,
   "metadata": {},
   "outputs": [],
   "source": [
    "SQL = \"\"\"\n",
    "\n",
    "CREATE OR REPLACE FUNCTION api_get_pois_for_city(\n",
    "    city_id int, poi_category character)\n",
    "    RETURNS TABLE\n",
    "            (\n",
    "                id          int,\n",
    "                h3id    char,\n",
    "                name    varchar,\n",
    "                lat         real,\n",
    "                long        real,\n",
    "                category    varchar\n",
    "            )\n",
    "    LANGUAGE plpgsql\n",
    "AS\n",
    "$poiforcity$\n",
    "BEGIN    \n",
    "    RETURN QUERY\n",
    "        SELECT pois.poiid, pois.h3id, pois.name, pois.lat, pois.long, pois.category \n",
    "            FROM pois \n",
    "            JOIN cityh3map ON cityh3map.h3id = pois.h3id\n",
    "\t\t    JOIN cities ON cities.cityid = cityh3map.cityid\n",
    "\t\t    WHERE cities.cityID = city_id AND pois.category = poi_category;\n",
    "END;\n",
    "$poiforcity$;\n",
    "\n",
    "\"\"\"\n",
    "\n",
    "execute_sql(SQL)"
   ]
  },
  {
   "cell_type": "markdown",
   "metadata": {},
   "source": [
    "### Demographics for a city"
   ]
  },
  {
   "cell_type": "code",
   "execution_count": 27,
   "metadata": {},
   "outputs": [],
   "source": [
    "SQL = \"\"\"\n",
    "-- Demographics for a city\n",
    "\n",
    "CREATE OR REPLACE FUNCTION api_get_demographics_for_city(\n",
    "    in_cityid integer, in_categorytype character)\n",
    "    RETURNS TABLE\n",
    "            (\n",
    "                h3id    char,\n",
    "                groupname   text,\n",
    "                population   float\n",
    "            )\n",
    "    LANGUAGE plpgsql\n",
    "AS\n",
    "$demographicsforcity$\n",
    "BEGIN\n",
    "    \n",
    "    RETURN QUERY\n",
    "\n",
    "        --- First, calculate # of H3 hexagons in each census block group in the city of interest\n",
    "\n",
    "        WITH \n",
    "            \n",
    "        censush3_counts AS\n",
    "            (SELECT censush3map.censusblockgroupid, count(cityh3map.h3id) as hexagon_count\n",
    "                FROM cityh3map\n",
    "                JOIN cities ON cities.cityID = cityh3map.cityID\n",
    "                JOIN censush3map ON censush3map.h3id = cityh3map.h3id\n",
    "                WHERE cities.cityID = in_cityid\n",
    "                GROUP BY censush3map.censusblockgroupid)\n",
    "\n",
    "        --- Then, find associated population totals for the entire census block for each H3 hexagon in the city\n",
    "\n",
    "        , demographic_totals AS\n",
    "            (SELECT censush3map.censusblockgroupid, cityh3map.h3id, demographics.groupname, demographics.total\n",
    "            FROM cityh3map\n",
    "            JOIN cities ON cities.cityID = cityh3map.cityID\n",
    "            JOIN censush3map ON censush3map.h3id = cityh3map.h3id\n",
    "            JOIN demographics ON censush3map.censusblockgroupid = demographics.censusblockgroupid        \n",
    "            WHERE demographics.categorytype = in_categorytype AND cities.cityID = in_cityid)\n",
    "\n",
    "        \n",
    "        --- Finally, join the above two tables together, and split the population equally among all hexagons\n",
    "        \n",
    "        SELECT demographic_totals.h3id, demographic_totals.groupname, demographic_totals.total::float / censush3_counts.hexagon_count::float as population\n",
    "            FROM demographic_totals\n",
    "            JOIN censush3_counts ON demographic_totals.censusblockgroupid = censush3_counts.censusblockgroupid;\n",
    "END;\n",
    "$demographicsforcity$;\n",
    "\n",
    "-- SELECT * FROM get_demographics_for_city('Atlanta', 'Race'); \n",
    "\"\"\"\n",
    "\n",
    "execute_sql(SQL)"
   ]
  },
  {
   "cell_type": "markdown",
   "metadata": {},
   "source": [
    "### Getting catchment area statistics for a given H3ID origin"
   ]
  },
  {
   "cell_type": "code",
   "execution_count": 31,
   "metadata": {},
   "outputs": [],
   "source": [
    "SQL = \"\"\"\n",
    "-- Demographics for a catchment area\n",
    "\n",
    "CREATE OR REPLACE FUNCTION api_get_demographics_for_catchment(\n",
    "    in_cityid integer, \n",
    "    in_categorytype character,\n",
    "    in_origin_id character\n",
    ")\n",
    "    RETURNS TABLE\n",
    "            (                \n",
    "                groupname   text,\n",
    "                population   float\n",
    "            )\n",
    "    LANGUAGE plpgsql\n",
    "AS\n",
    "$demographicsforarea$\n",
    "BEGIN\n",
    "    \n",
    "    RETURN QUERY\n",
    "\n",
    "        \n",
    "        SELECT demo.groupname, SUM(demo.population) as population \n",
    "            FROM api_get_demographics_for_city(in_cityid, in_categorytype) as demo\n",
    "            JOIN catchmenth3map ON catchmenth3map.h3id = demo.h3id\n",
    "            JOIN catchments ON catchments.catchmentid = catchmenth3map.catchmentid\n",
    "            WHERE catchments.originh3id = in_origin_id\n",
    "        \tGROUP BY demo.groupname;\n",
    "\n",
    "END;\n",
    "$demographicsforarea$;\n",
    "\n",
    "-- SELECT * FROM api_get_demographics_for_catchment('Atlanta', 'Race', '8944c1a8c8fffff'); \n",
    "\"\"\"\n",
    "\n",
    "execute_sql(SQL)"
   ]
  }
 ],
 "metadata": {
  "interpreter": {
   "hash": "bf0d96ebd2a5dd04824f7e10db890ae617139d6f917167f42fcdcc1217b9ad8b"
  },
  "kernelspec": {
   "display_name": "Python 3.9.7 ('cse6242project')",
   "language": "python",
   "name": "python3"
  },
  "language_info": {
   "codemirror_mode": {
    "name": "ipython",
    "version": 3
   },
   "file_extension": ".py",
   "mimetype": "text/x-python",
   "name": "python",
   "nbconvert_exporter": "python",
   "pygments_lexer": "ipython3",
   "version": "3.9.7"
  },
  "orig_nbformat": 4
 },
 "nbformat": 4,
 "nbformat_minor": 2
}
