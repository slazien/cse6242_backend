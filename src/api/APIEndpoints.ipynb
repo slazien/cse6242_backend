{
 "cells": [
  {
   "cell_type": "code",
   "execution_count": 30,
   "id": "fce6f9d0",
   "metadata": {},
   "outputs": [],
   "source": [
    "import sys\n",
    "sys.path.append(\"./\") \n",
    "from fastapi.testclient import TestClient\n",
    "import api\n",
    "import importlib as imp\n",
    "\n",
    "import configparser"
   ]
  },
  {
   "cell_type": "code",
   "execution_count": 24,
   "id": "143c5747",
   "metadata": {},
   "outputs": [
    {
     "data": {
      "text/plain": [
       "['DB']"
      ]
     },
     "execution_count": 24,
     "metadata": {},
     "output_type": "execute_result"
    }
   ],
   "source": [
    "config = configparser.ConfigParser()\n",
    "config.read(\"../../config.ini\")\n",
    "config.sections()"
   ]
  },
  {
   "cell_type": "code",
   "execution_count": 31,
   "id": "2e87879d",
   "metadata": {},
   "outputs": [
    {
     "name": "stdout",
     "output_type": "stream",
     "text": [
      "bar\n",
      "api\n"
     ]
    }
   ],
   "source": [
    "imp.reload(api)\n",
    "app = api.backendApi(dict(config['DB']))\n",
    "client = TestClient(app.get_app())"
   ]
  },
  {
   "cell_type": "code",
   "execution_count": 13,
   "id": "db5ac1fe",
   "metadata": {},
   "outputs": [
    {
     "name": "stdout",
     "output_type": "stream",
     "text": [
      "[{'ID': 1, 'Name': 'Atlanta'}]\n"
     ]
    }
   ],
   "source": [
    "response = client.get(\"/cities\")\n",
    "print(response.json())"
   ]
  },
  {
   "cell_type": "code",
   "execution_count": 14,
   "id": "74598847",
   "metadata": {},
   "outputs": [
    {
     "name": "stdout",
     "output_type": "stream",
     "text": [
      "{'ID': 311443, 'Name': 'Sweet Monkey', 'Coordinates': {'lat': 33.801186, 'long': -84.327446}}\n"
     ]
    }
   ],
   "source": [
    "response = client.get(\"/pois?city=1&type=Restaurants\")\n",
    "print(response.json()[0])"
   ]
  },
  {
   "cell_type": "code",
   "execution_count": 16,
   "id": "e98e7708",
   "metadata": {},
   "outputs": [
    {
     "name": "stdout",
     "output_type": "stream",
     "text": [
      "{'detail': 'Not Found'}\n"
     ]
    }
   ],
   "source": [
    "#To do: accessibility\n",
    "response = client.get(\"/demographics?city=1&category=65 years and over female\")\n",
    "print(response.json())"
   ]
  },
  {
   "cell_type": "code",
   "execution_count": 17,
   "id": "3d920faa",
   "metadata": {},
   "outputs": [
    {
     "name": "stdout",
     "output_type": "stream",
     "text": [
      "1\n"
     ]
    }
   ],
   "source": [
    "response = client.get(\"/catchment?city=1&poi=1&TimeofDay=morning&distance=30&category=65 years and over female\")\n",
    "print(len(response.json()))"
   ]
  }
 ],
 "metadata": {
  "kernelspec": {
   "display_name": "Python 3 (ipykernel)",
   "language": "python",
   "name": "python3"
  },
  "language_info": {
   "codemirror_mode": {
    "name": "ipython",
    "version": 3
   },
   "file_extension": ".py",
   "mimetype": "text/x-python",
   "name": "python",
   "nbconvert_exporter": "python",
   "pygments_lexer": "ipython3",
   "version": "3.9.7"
  }
 },
 "nbformat": 4,
 "nbformat_minor": 5
}
